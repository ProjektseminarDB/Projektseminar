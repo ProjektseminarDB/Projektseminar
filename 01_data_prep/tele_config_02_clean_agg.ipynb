{
 "cells": [
  {
   "cell_type": "code",
   "execution_count": 1,
   "metadata": {},
   "outputs": [],
   "source": [
    "import pandas as pd\n",
    "import numpy as np\n",
    "import glob"
   ]
  },
  {
   "cell_type": "code",
   "execution_count": 7,
   "metadata": {},
   "outputs": [
    {
     "data": {
      "text/plain": [
       "['../Cleaned_Data/Tele_Aggregated/Telematik_Config_2019_9_neu.csv',\n",
       " '../Cleaned_Data/Tele_Aggregated/Telematik_Config_2019_1_neu.csv',\n",
       " '../Cleaned_Data/Tele_Aggregated/Telematik_Config_2019_10_neu.csv',\n",
       " '../Cleaned_Data/Tele_Aggregated/Telematik_Config_2019_8_neu.csv',\n",
       " '../Cleaned_Data/Tele_Aggregated/Telematik_Config_2020_1_neu.csv',\n",
       " '../Cleaned_Data/Tele_Aggregated/Telematik_Config_2020_4_neu.csv',\n",
       " '../Cleaned_Data/Tele_Aggregated/Telematik_Config_2019_7_neu.csv',\n",
       " '../Cleaned_Data/Tele_Aggregated/Telematik_Config_2019_2_neu.csv',\n",
       " '../Cleaned_Data/Tele_Aggregated/Telematik_Config_2019_4_neu.csv',\n",
       " '../Cleaned_Data/Tele_Aggregated/Telematik_Config_2019_12_neu.csv',\n",
       " '../Cleaned_Data/Tele_Aggregated/Telematik_Config_2019_5_neu.csv',\n",
       " '../Cleaned_Data/Tele_Aggregated/Telematik_Config_2020_2_neu.csv',\n",
       " '../Cleaned_Data/Tele_Aggregated/Telematik_Config_2019_3_neu.csv',\n",
       " '../Cleaned_Data/Tele_Aggregated/Telematik_Config_2020_3_neu.csv',\n",
       " '../Cleaned_Data/Tele_Aggregated/Telematik_Config_2019_11_neu.csv',\n",
       " '../Cleaned_Data/Tele_Aggregated/Telematik_Config_2019_6_neu.csv']"
      ]
     },
     "execution_count": 7,
     "metadata": {},
     "output_type": "execute_result"
    }
   ],
   "source": [
    "files = glob.glob(\"../Cleaned_Data/Tele_Aggregated/Telematik_Config_*.csv\")\n",
    "files"
   ]
  },
  {
   "cell_type": "code",
   "execution_count": 8,
   "metadata": {},
   "outputs": [],
   "source": [
    "dfs = []\n",
    "for filename in files:\n",
    "    dfs.append(pd.read_csv(filename))\n",
    "\n",
    "# Concatenate all data into one DataFrame\n",
    "big_frame = pd.concat(dfs, ignore_index=True)"
   ]
  },
  {
   "cell_type": "code",
   "execution_count": 9,
   "metadata": {},
   "outputs": [
    {
     "data": {
      "text/html": [
       "<div>\n",
       "<style scoped>\n",
       "    .dataframe tbody tr th:only-of-type {\n",
       "        vertical-align: middle;\n",
       "    }\n",
       "\n",
       "    .dataframe tbody tr th {\n",
       "        vertical-align: top;\n",
       "    }\n",
       "\n",
       "    .dataframe thead th {\n",
       "        text-align: right;\n",
       "    }\n",
       "</style>\n",
       "<table border=\"1\" class=\"dataframe\">\n",
       "  <thead>\n",
       "    <tr style=\"text-align: right;\">\n",
       "      <th></th>\n",
       "      <th>FZ-ID</th>\n",
       "      <th>Timestamp</th>\n",
       "      <th>Event</th>\n",
       "      <th>n</th>\n",
       "      <th>mean</th>\n",
       "      <th>max</th>\n",
       "    </tr>\n",
       "  </thead>\n",
       "  <tbody>\n",
       "    <tr>\n",
       "      <th>0</th>\n",
       "      <td>002d233c-776c-4b76-a64a-a5a348c246e4</td>\n",
       "      <td>2019-09-21</td>\n",
       "      <td>FE_BRAKE</td>\n",
       "      <td>211</td>\n",
       "      <td>-17.188626</td>\n",
       "      <td>-1.1</td>\n",
       "    </tr>\n",
       "    <tr>\n",
       "      <th>1</th>\n",
       "      <td>002d233c-776c-4b76-a64a-a5a348c246e4</td>\n",
       "      <td>2019-09-21</td>\n",
       "      <td>FE_COAST</td>\n",
       "      <td>291</td>\n",
       "      <td>163.024055</td>\n",
       "      <td>1340.0</td>\n",
       "    </tr>\n",
       "    <tr>\n",
       "      <th>2</th>\n",
       "      <td>002d233c-776c-4b76-a64a-a5a348c246e4</td>\n",
       "      <td>2019-09-21</td>\n",
       "      <td>FE_IDLE</td>\n",
       "      <td>1</td>\n",
       "      <td>382.000000</td>\n",
       "      <td>382.0</td>\n",
       "    </tr>\n",
       "    <tr>\n",
       "      <th>3</th>\n",
       "      <td>002d233c-776c-4b76-a64a-a5a348c246e4</td>\n",
       "      <td>2019-09-21</td>\n",
       "      <td>FE_SPEED</td>\n",
       "      <td>5</td>\n",
       "      <td>82.680000</td>\n",
       "      <td>83.6</td>\n",
       "    </tr>\n",
       "    <tr>\n",
       "      <th>4</th>\n",
       "      <td>002d233c-776c-4b76-a64a-a5a348c246e4</td>\n",
       "      <td>2019-09-22</td>\n",
       "      <td>FE_BRAKE</td>\n",
       "      <td>158</td>\n",
       "      <td>-16.835443</td>\n",
       "      <td>0.7</td>\n",
       "    </tr>\n",
       "  </tbody>\n",
       "</table>\n",
       "</div>"
      ],
      "text/plain": [
       "                                  FZ-ID   Timestamp     Event    n  \\\n",
       "0  002d233c-776c-4b76-a64a-a5a348c246e4  2019-09-21  FE_BRAKE  211   \n",
       "1  002d233c-776c-4b76-a64a-a5a348c246e4  2019-09-21  FE_COAST  291   \n",
       "2  002d233c-776c-4b76-a64a-a5a348c246e4  2019-09-21   FE_IDLE    1   \n",
       "3  002d233c-776c-4b76-a64a-a5a348c246e4  2019-09-21  FE_SPEED    5   \n",
       "4  002d233c-776c-4b76-a64a-a5a348c246e4  2019-09-22  FE_BRAKE  158   \n",
       "\n",
       "         mean     max  \n",
       "0  -17.188626    -1.1  \n",
       "1  163.024055  1340.0  \n",
       "2  382.000000   382.0  \n",
       "3   82.680000    83.6  \n",
       "4  -16.835443     0.7  "
      ]
     },
     "execution_count": 9,
     "metadata": {},
     "output_type": "execute_result"
    }
   ],
   "source": [
    "big_frame.head()"
   ]
  },
  {
   "cell_type": "code",
   "execution_count": 10,
   "metadata": {},
   "outputs": [
    {
     "data": {
      "text/plain": [
       "(2773789, 6)"
      ]
     },
     "execution_count": 10,
     "metadata": {},
     "output_type": "execute_result"
    }
   ],
   "source": [
    "big_frame.shape"
   ]
  },
  {
   "cell_type": "code",
   "execution_count": 11,
   "metadata": {},
   "outputs": [],
   "source": [
    "big_frame = big_frame.sort_values(by=['Timestamp'])"
   ]
  },
  {
   "cell_type": "code",
   "execution_count": 12,
   "metadata": {},
   "outputs": [],
   "source": [
    "big_frame.to_csv(\"../Cleaned_Data/Tele_Aggregated/Telematik_Config_Agg.csv\", index=False)"
   ]
  },
  {
   "cell_type": "code",
   "execution_count": null,
   "metadata": {},
   "outputs": [],
   "source": [
    "#Filter IDS -- hat eben nicht funktioniert"
   ]
  },
  {
   "cell_type": "code",
   "execution_count": 13,
   "metadata": {},
   "outputs": [
    {
     "data": {
      "text/html": [
       "<div>\n",
       "<style scoped>\n",
       "    .dataframe tbody tr th:only-of-type {\n",
       "        vertical-align: middle;\n",
       "    }\n",
       "\n",
       "    .dataframe tbody tr th {\n",
       "        vertical-align: top;\n",
       "    }\n",
       "\n",
       "    .dataframe thead th {\n",
       "        text-align: right;\n",
       "    }\n",
       "</style>\n",
       "<table border=\"1\" class=\"dataframe\">\n",
       "  <thead>\n",
       "    <tr style=\"text-align: right;\">\n",
       "      <th></th>\n",
       "      <th>Unnamed: 0</th>\n",
       "      <th>FZ-ID</th>\n",
       "      <th>AUFTRAGSNR</th>\n",
       "      <th>AUFTRAGSTEXT</th>\n",
       "      <th>ILA</th>\n",
       "      <th>WHO_NUMMER</th>\n",
       "      <th>AUFTRAGSART</th>\n",
       "      <th>ECKSTARTTERMIN</th>\n",
       "      <th>ECKENDTERMIN</th>\n",
       "      <th>BEZUGSDATUM</th>\n",
       "      <th>...</th>\n",
       "      <th>FZ_HOEHE</th>\n",
       "      <th>MOTORTYP</th>\n",
       "      <th>EURONORM</th>\n",
       "      <th>INBETRIEB_AB</th>\n",
       "      <th>KLIMAANLAGE</th>\n",
       "      <th>ABGASFILTER</th>\n",
       "      <th>ANZAHL_TUEREN</th>\n",
       "      <th>ZUL_100KMH</th>\n",
       "      <th>BAUJAHR</th>\n",
       "      <th>PLAETZE</th>\n",
       "    </tr>\n",
       "  </thead>\n",
       "  <tbody>\n",
       "    <tr>\n",
       "      <th>0</th>\n",
       "      <td>25</td>\n",
       "      <td>7ea1f15d-626a-4d8e-a8b4-32e0e4f3a173</td>\n",
       "      <td>1034632730</td>\n",
       "      <td>außerplanm. Instandsetzung</td>\n",
       "      <td>030</td>\n",
       "      <td>43</td>\n",
       "      <td>510</td>\n",
       "      <td>43437</td>\n",
       "      <td>43437</td>\n",
       "      <td>43530</td>\n",
       "      <td>...</td>\n",
       "      <td>2.985</td>\n",
       "      <td>D2066LUH47</td>\n",
       "      <td>5E</td>\n",
       "      <td>40709</td>\n",
       "      <td>9</td>\n",
       "      <td>03</td>\n",
       "      <td>2</td>\n",
       "      <td>0</td>\n",
       "      <td>40544</td>\n",
       "      <td>84</td>\n",
       "    </tr>\n",
       "  </tbody>\n",
       "</table>\n",
       "<p>1 rows × 34 columns</p>\n",
       "</div>"
      ],
      "text/plain": [
       "   Unnamed: 0                                 FZ-ID  AUFTRAGSNR  \\\n",
       "0          25  7ea1f15d-626a-4d8e-a8b4-32e0e4f3a173  1034632730   \n",
       "\n",
       "                 AUFTRAGSTEXT  ILA  WHO_NUMMER AUFTRAGSART  ECKSTARTTERMIN  \\\n",
       "0  außerplanm. Instandsetzung  030          43         510           43437   \n",
       "\n",
       "   ECKENDTERMIN  BEZUGSDATUM  ...  FZ_HOEHE    MOTORTYP EURONORM INBETRIEB_AB  \\\n",
       "0         43437        43530  ...     2.985  D2066LUH47       5E        40709   \n",
       "\n",
       "  KLIMAANLAGE ABGASFILTER ANZAHL_TUEREN ZUL_100KMH  BAUJAHR  PLAETZE  \n",
       "0           9          03             2          0    40544       84  \n",
       "\n",
       "[1 rows x 34 columns]"
      ]
     },
     "execution_count": 13,
     "metadata": {},
     "output_type": "execute_result"
    }
   ],
   "source": [
    "merged_isi = pd.read_csv(\"../Merged_Data/V2_ISI_Merged_Cleaned.csv\")\n",
    "merged_isi.head(1)"
   ]
  },
  {
   "cell_type": "code",
   "execution_count": 14,
   "metadata": {},
   "outputs": [
    {
     "data": {
      "text/html": [
       "<div>\n",
       "<style scoped>\n",
       "    .dataframe tbody tr th:only-of-type {\n",
       "        vertical-align: middle;\n",
       "    }\n",
       "\n",
       "    .dataframe tbody tr th {\n",
       "        vertical-align: top;\n",
       "    }\n",
       "\n",
       "    .dataframe thead th {\n",
       "        text-align: right;\n",
       "    }\n",
       "</style>\n",
       "<table border=\"1\" class=\"dataframe\">\n",
       "  <thead>\n",
       "    <tr style=\"text-align: right;\">\n",
       "      <th></th>\n",
       "      <th>FZ-ID</th>\n",
       "    </tr>\n",
       "  </thead>\n",
       "  <tbody>\n",
       "    <tr>\n",
       "      <th>0</th>\n",
       "      <td>7ea1f15d-626a-4d8e-a8b4-32e0e4f3a173</td>\n",
       "    </tr>\n",
       "    <tr>\n",
       "      <th>1</th>\n",
       "      <td>7ea1f15d-626a-4d8e-a8b4-32e0e4f3a173</td>\n",
       "    </tr>\n",
       "    <tr>\n",
       "      <th>2</th>\n",
       "      <td>7ea1f15d-626a-4d8e-a8b4-32e0e4f3a173</td>\n",
       "    </tr>\n",
       "    <tr>\n",
       "      <th>3</th>\n",
       "      <td>3cbf6063-9132-443c-92b5-ccf382bdf155</td>\n",
       "    </tr>\n",
       "    <tr>\n",
       "      <th>4</th>\n",
       "      <td>3cbf6063-9132-443c-92b5-ccf382bdf155</td>\n",
       "    </tr>\n",
       "  </tbody>\n",
       "</table>\n",
       "</div>"
      ],
      "text/plain": [
       "                                  FZ-ID\n",
       "0  7ea1f15d-626a-4d8e-a8b4-32e0e4f3a173\n",
       "1  7ea1f15d-626a-4d8e-a8b4-32e0e4f3a173\n",
       "2  7ea1f15d-626a-4d8e-a8b4-32e0e4f3a173\n",
       "3  3cbf6063-9132-443c-92b5-ccf382bdf155\n",
       "4  3cbf6063-9132-443c-92b5-ccf382bdf155"
      ]
     },
     "execution_count": 14,
     "metadata": {},
     "output_type": "execute_result"
    }
   ],
   "source": [
    "merged_isi = pd.DataFrame(merged_isi[\"FZ-ID\"])\n",
    "merged_isi.head()"
   ]
  },
  {
   "cell_type": "code",
   "execution_count": 21,
   "metadata": {},
   "outputs": [],
   "source": [
    "all_ids= merged_isi"
   ]
  },
  {
   "cell_type": "code",
   "execution_count": 22,
   "metadata": {},
   "outputs": [],
   "source": [
    "all_ids[\"Spalte\"] = all_ids"
   ]
  },
  {
   "cell_type": "code",
   "execution_count": 29,
   "metadata": {},
   "outputs": [],
   "source": [
    "filtered_big_frame = big_frame[~big_frame['FZ-ID'].isin(all_ids[\"Spalte\"])]"
   ]
  },
  {
   "cell_type": "code",
   "execution_count": 33,
   "metadata": {},
   "outputs": [
    {
     "data": {
      "text/plain": [
       "3255"
      ]
     },
     "execution_count": 33,
     "metadata": {},
     "output_type": "execute_result"
    }
   ],
   "source": [
    "big_frame[\"FZ-ID\"].nunique()"
   ]
  },
  {
   "cell_type": "code",
   "execution_count": 30,
   "metadata": {},
   "outputs": [
    {
     "data": {
      "text/plain": [
       "(2773789, 6)"
      ]
     },
     "execution_count": 30,
     "metadata": {},
     "output_type": "execute_result"
    }
   ],
   "source": [
    "filtered_big_frame.shape"
   ]
  },
  {
   "cell_type": "code",
   "execution_count": 26,
   "metadata": {},
   "outputs": [],
   "source": [
    "filtered_big_frame.to_csv(\"../Cleaned_Data/Tele_Aggregated/Telematik_Config_Agg_filtered.csv\", index=False)"
   ]
  },
  {
   "cell_type": "code",
   "execution_count": 31,
   "metadata": {},
   "outputs": [],
   "source": [
    "filtered_big_frame = big_frame[big_frame['FZ-ID'].isin(all_ids[\"Spalte\"])]"
   ]
  },
  {
   "cell_type": "code",
   "execution_count": 32,
   "metadata": {},
   "outputs": [
    {
     "data": {
      "text/plain": [
       "(0, 6)"
      ]
     },
     "execution_count": 32,
     "metadata": {},
     "output_type": "execute_result"
    }
   ],
   "source": [
    "filtered_big_frame.shape"
   ]
  }
 ],
 "metadata": {
  "kernelspec": {
   "display_name": "pjs",
   "language": "python",
   "name": "pjs"
  },
  "language_info": {
   "codemirror_mode": {
    "name": "ipython",
    "version": 3
   },
   "file_extension": ".py",
   "mimetype": "text/x-python",
   "name": "python",
   "nbconvert_exporter": "python",
   "pygments_lexer": "ipython3",
   "version": "3.8.3"
  }
 },
 "nbformat": 4,
 "nbformat_minor": 4
}
