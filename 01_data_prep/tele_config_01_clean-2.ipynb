{
 "cells": [
  {
   "cell_type": "code",
   "execution_count": 1,
   "metadata": {},
   "outputs": [],
   "source": [
    "#Setup \n",
    "import pandas as pd\n",
    "import datetime as dt\n",
    "import glob"
   ]
  },
  {
   "cell_type": "markdown",
   "metadata": {},
   "source": [
    "# ZU ERSETZEN MIT R-CODE !!!\n",
    "\n",
    "rpy2\n"
   ]
  },
  {
   "cell_type": "code",
   "execution_count": null,
   "metadata": {
    "collapsed": true,
    "jupyter": {
     "outputs_hidden": true
    }
   },
   "outputs": [
    {
     "name": "stdout",
     "output_type": "stream",
     "text": [
      "Collecting package metadata (current_repodata.json): done\n",
      "Solving environment: failed with initial frozen solve. Retrying with flexible solve.\n",
      "Solving environment: failed with repodata from current_repodata.json, will retry with next repodata source.\n",
      "Collecting package metadata (repodata.json): done\n",
      "Solving environment: failed with initial frozen solve. Retrying with flexible solve.\n",
      "Solving environment: / \n",
      "Found conflicts! Looking for incompatible packages.\n",
      "This can take several minutes.  Press CTRL-C to abort.\n",
      "                                                                               failed\n",
      "\n",
      "UnsatisfiableError: The following specifications were found\n",
      "to be incompatible with the existing python installation in your environment:\n",
      "\n",
      "Specifications:\n",
      "\n",
      "  - rpy2 -> python[version='2.7.*|3.5.*|3.6.*|>=2.7,<2.8.0a0|>=3.5,<3.6.0a0|>=3.6,<3.7.0a0|>=3.7,<3.8.0a0|3.4.*|3.3.*']\n",
      "\n",
      "Your python: python=3.8\n",
      "\n",
      "If python is on the left-most side of the chain, that's the version you've asked for.\n",
      "When python appears to the right, that indicates that the thing on the left is somehow\n",
      "not available for the python version you are constrained to. Note that conda will not\n",
      "change your python version to a different minor version unless you explicitly specify\n",
      "that.\n",
      "\n",
      "\n",
      "\n"
     ]
    }
   ],
   "source": [
    "conda install -c r rpy2"
   ]
  },
  {
   "cell_type": "code",
   "execution_count": 2,
   "metadata": {
    "jupyter": {
     "source_hidden": true
    }
   },
   "outputs": [],
   "source": [
    "#Files\n",
    "tele19_files = glob.glob(\"../data/Telematik_Config_2019/Telematik_Config_2019_*.csv\")\n",
    "tele20_files = glob.glob(\"../data/Telematik_Config_2020/Telematik_Config_2020_*.csv\")\n",
    "tele_tracking = \"../data/Telematik_Tracking.csv\"\n",
    "all_ids = pd.read_csv(\"../Cleaned_Data/combined_ids.csv\")"
   ]
  },
  {
   "cell_type": "code",
   "execution_count": 3,
   "metadata": {
    "collapsed": true,
    "jupyter": {
     "outputs_hidden": true
    }
   },
   "outputs": [
    {
     "data": {
      "text/plain": [
       "['../data/Telematik_Config_2019/Telematik_Config_2019_12.csv',\n",
       " '../data/Telematik_Config_2019/Telematik_Config_2019_10.csv',\n",
       " '../data/Telematik_Config_2019/Telematik_Config_2019_9.csv',\n",
       " '../data/Telematik_Config_2019/Telematik_Config_2019_8.csv',\n",
       " '../data/Telematik_Config_2019/Telematik_Config_2019_5.csv',\n",
       " '../data/Telematik_Config_2019/Telematik_Config_2019_4.csv',\n",
       " '../data/Telematik_Config_2019/Telematik_Config_2019_2.csv',\n",
       " '../data/Telematik_Config_2019/Telematik_Config_2019_3.csv',\n",
       " '../data/Telematik_Config_2019/Telematik_Config_2019_7.csv',\n",
       " '../data/Telematik_Config_2019/Telematik_Config_2019_1.csv',\n",
       " '../data/Telematik_Config_2019/Telematik_Config_2019_6.csv',\n",
       " '../data/Telematik_Config_2019/Telematik_Config_2019_11.csv',\n",
       " '../data/Telematik_Config_2020/Telematik_Config_2020_2.csv',\n",
       " '../data/Telematik_Config_2020/Telematik_Config_2020_3.csv',\n",
       " '../data/Telematik_Config_2020/Telematik_Config_2020_1.csv',\n",
       " '../data/Telematik_Config_2020/Telematik_Config_2020_4.csv']"
      ]
     },
     "execution_count": 3,
     "metadata": {},
     "output_type": "execute_result"
    }
   ],
   "source": [
    "tele_files = tele19_files + tele20_files\n",
    "tele_files"
   ]
  },
  {
   "cell_type": "code",
   "execution_count": 4,
   "metadata": {},
   "outputs": [],
   "source": [
    "##################################################################\n",
    "#Cleaning function\n",
    "##################################################################"
   ]
  },
  {
   "cell_type": "code",
   "execution_count": 4,
   "metadata": {},
   "outputs": [],
   "source": [
    "def clean_tele_config(file):\n",
    "    data = pd.read_csv(file, sep = \"|\")\n",
    "    \n",
    "    data = data[~data['FZ-ID'].isin(all_ids)]\n",
    "    data = data.drop_duplicates()\n",
    "    \n",
    "    #data['End_milage'] = data['End_milage'] / 1000000\n",
    "    #data['End_milage'] = data['End_milage'] / 1000000\n",
    "    \n",
    "    #tele_19['Start_Date'] = pd.TimedeltaIndex(tele['Start_Date'], unit='d') + dt.datetime(1899,12,30)\n",
    "    #tele_19['End_Date'] = pd.TimedeltaIndex(tele['End_Date'], unit='d') + dt.datetime(1899,12,30)\n",
    "    \n",
    "    data.to_csv(file)"
   ]
  },
  {
   "cell_type": "code",
   "execution_count": 7,
   "metadata": {},
   "outputs": [
    {
     "name": "stdout",
     "output_type": "stream",
     "text": [
      "../data/Telematik_Config_2019/Telematik_Config_2019_10.csv\n",
      "../data/Telematik_Config_2019/Telematik_Config_2019_9.csv\n",
      "../data/Telematik_Config_2019/Telematik_Config_2019_8.csv\n",
      "../data/Telematik_Config_2019/Telematik_Config_2019_5.csv\n",
      "../data/Telematik_Config_2019/Telematik_Config_2019_4.csv\n",
      "../data/Telematik_Config_2019/Telematik_Config_2019_2.csv\n",
      "../data/Telematik_Config_2019/Telematik_Config_2019_3.csv\n",
      "../data/Telematik_Config_2019/Telematik_Config_2019_7.csv\n",
      "../data/Telematik_Config_2019/Telematik_Config_2019_1.csv\n",
      "../data/Telematik_Config_2019/Telematik_Config_2019_6.csv\n",
      "../data/Telematik_Config_2019/Telematik_Config_2019_11.csv\n",
      "../data/Telematik_Config_2020/Telematik_Config_2020_2.csv\n",
      "../data/Telematik_Config_2020/Telematik_Config_2020_3.csv\n",
      "../data/Telematik_Config_2020/Telematik_Config_2020_1.csv\n",
      "../data/Telematik_Config_2020/Telematik_Config_2020_4.csv\n"
     ]
    }
   ],
   "source": [
    "for file in tele_files[1:]:\n",
    "    print(file)\n",
    "    clean_tele_config(file)"
   ]
  },
  {
   "cell_type": "code",
   "execution_count": null,
   "metadata": {},
   "outputs": [],
   "source": [
    "##################################################################\n",
    "#Cleaning Tracking data\n",
    "##################################################################"
   ]
  },
  {
   "cell_type": "code",
   "execution_count": null,
   "metadata": {},
   "outputs": [],
   "source": [
    "tracking_data = pd.read_csv(tele_tracking, sep=\"|\")\n",
    "#tracking_data.head(1)"
   ]
  },
  {
   "cell_type": "code",
   "execution_count": null,
   "metadata": {},
   "outputs": [],
   "source": [
    "tracking_data = tracking_data.drop_duplicates()\n",
    "tracking_data = tracking_data.rename(columns={'VIN_OnOrder': 'FZ-ID'})\n",
    "tracking_data = tracking_data[~tracking_data['FZ-ID'].isin(common_ids)]\n",
    "\n",
    "tracking_data[\"Start_Time\"] = tracking_data[\"Start_Date\"] + tracking_data[\"Start_time\"]\n",
    "tracking_data[\"End_Time\"] = tracking_data[\"End_Date\"] + tracking_data[\"End_time\"]\n",
    "\n",
    "tracking_data.drop([\"Start_Date\", \"Start_time\", \"End_Date\", \"End_time\", \"Status_login\"], axis = 1)\n",
    "\n",
    "tracking_data.to_csv(\"../Cleaned_Data/Telematik_Tracking.csv\")"
   ]
  }
 ],
 "metadata": {
  "kernelspec": {
   "display_name": "pjs",
   "language": "python",
   "name": "pjs"
  },
  "language_info": {
   "codemirror_mode": {
    "name": "ipython",
    "version": 3
   },
   "file_extension": ".py",
   "mimetype": "text/x-python",
   "name": "python",
   "nbconvert_exporter": "python",
   "pygments_lexer": "ipython3",
   "version": "3.8.3"
  }
 },
 "nbformat": 4,
 "nbformat_minor": 4
}
