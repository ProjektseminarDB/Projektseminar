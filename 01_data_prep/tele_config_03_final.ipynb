{
 "cells": [
  {
   "cell_type": "code",
   "execution_count": 1,
   "metadata": {},
   "outputs": [],
   "source": [
    "import pandas as pd\n",
    "import matplotlib.pyplot as plt\n",
    "import seaborn as sns\n",
    "import nltk"
   ]
  },
  {
   "cell_type": "code",
   "execution_count": 2,
   "metadata": {},
   "outputs": [],
   "source": [
    "tele_data = pd.read_csv(\"../Cleaned_Data/Tele_Aggregated/Telematik_Config_Agg.csv\", sep=\",\")"
   ]
  },
  {
   "cell_type": "code",
   "execution_count": 3,
   "metadata": {},
   "outputs": [
    {
     "data": {
      "text/plain": [
       "3255"
      ]
     },
     "execution_count": 3,
     "metadata": {},
     "output_type": "execute_result"
    }
   ],
   "source": [
    "tele_data['FZ-ID'].nunique()"
   ]
  },
  {
   "cell_type": "code",
   "execution_count": 4,
   "metadata": {},
   "outputs": [],
   "source": [
    "tele_data = tele_data.drop_duplicates()\n",
    "tele_data = tele_data.dropna()"
   ]
  },
  {
   "cell_type": "code",
   "execution_count": 6,
   "metadata": {},
   "outputs": [
    {
     "name": "stderr",
     "output_type": "stream",
     "text": [
      "/home/dbpjs/anaconda3/lib/python3.7/site-packages/IPython/core/interactiveshell.py:3063: DtypeWarning: Columns (29) have mixed types.Specify dtype option on import or set low_memory=False.\n",
      "  interactivity=interactivity, compiler=compiler, result=result)\n"
     ]
    }
   ],
   "source": [
    "isi_data = pd.read_csv(\"../Merged_Data/V2_ISI_Merged_Cleaned.csv\", sep=\",\")"
   ]
  },
  {
   "cell_type": "code",
   "execution_count": 7,
   "metadata": {},
   "outputs": [
    {
     "data": {
      "text/plain": [
       "4288"
      ]
     },
     "execution_count": 7,
     "metadata": {},
     "output_type": "execute_result"
    }
   ],
   "source": [
    "isi_data['FZ-ID'].nunique()"
   ]
  },
  {
   "cell_type": "code",
   "execution_count": 8,
   "metadata": {},
   "outputs": [],
   "source": [
    "tele_data_neu = tele_data[tele_data['FZ-ID'].isin(isi_data['FZ-ID'])]"
   ]
  },
  {
   "cell_type": "code",
   "execution_count": 9,
   "metadata": {},
   "outputs": [
    {
     "data": {
      "text/plain": [
       "2894"
      ]
     },
     "execution_count": 9,
     "metadata": {},
     "output_type": "execute_result"
    }
   ],
   "source": [
    "tele_data_neu['FZ-ID'].nunique()"
   ]
  },
  {
   "cell_type": "code",
   "execution_count": 10,
   "metadata": {},
   "outputs": [],
   "source": [
    "isi_data_neu = isi_data[isi_data['FZ-ID'].isin(tele_data['FZ-ID'])]"
   ]
  },
  {
   "cell_type": "code",
   "execution_count": 11,
   "metadata": {},
   "outputs": [
    {
     "data": {
      "text/html": [
       "<div>\n",
       "<style scoped>\n",
       "    .dataframe tbody tr th:only-of-type {\n",
       "        vertical-align: middle;\n",
       "    }\n",
       "\n",
       "    .dataframe tbody tr th {\n",
       "        vertical-align: top;\n",
       "    }\n",
       "\n",
       "    .dataframe thead th {\n",
       "        text-align: right;\n",
       "    }\n",
       "</style>\n",
       "<table border=\"1\" class=\"dataframe\">\n",
       "  <thead>\n",
       "    <tr style=\"text-align: right;\">\n",
       "      <th></th>\n",
       "      <th>Unnamed: 0</th>\n",
       "      <th>FZ-ID</th>\n",
       "      <th>AUFTRAGSNR</th>\n",
       "      <th>AUFTRAGSTEXT</th>\n",
       "      <th>ILA</th>\n",
       "      <th>WHO_NUMMER</th>\n",
       "      <th>AUFTRAGSART</th>\n",
       "      <th>ECKSTARTTERMIN</th>\n",
       "      <th>ECKENDTERMIN</th>\n",
       "      <th>BEZUGSDATUM</th>\n",
       "      <th>...</th>\n",
       "      <th>FZ_HOEHE</th>\n",
       "      <th>MOTORTYP</th>\n",
       "      <th>EURONORM</th>\n",
       "      <th>INBETRIEB_AB</th>\n",
       "      <th>KLIMAANLAGE</th>\n",
       "      <th>ABGASFILTER</th>\n",
       "      <th>ANZAHL_TUEREN</th>\n",
       "      <th>ZUL_100KMH</th>\n",
       "      <th>BAUJAHR</th>\n",
       "      <th>PLAETZE</th>\n",
       "    </tr>\n",
       "  </thead>\n",
       "  <tbody>\n",
       "    <tr>\n",
       "      <th>304039</th>\n",
       "      <td>320965</td>\n",
       "      <td>4e03c539-3323-4dbf-991c-c07dec29405b</td>\n",
       "      <td>1037406312</td>\n",
       "      <td>Frist 510</td>\n",
       "      <td>510</td>\n",
       "      <td>134</td>\n",
       "      <td>510</td>\n",
       "      <td>43941</td>\n",
       "      <td>43941</td>\n",
       "      <td>43942</td>\n",
       "      <td>...</td>\n",
       "      <td>3.06</td>\n",
       "      <td>D2066LUH47</td>\n",
       "      <td>5E</td>\n",
       "      <td>40350</td>\n",
       "      <td>1</td>\n",
       "      <td>03</td>\n",
       "      <td>2</td>\n",
       "      <td>0</td>\n",
       "      <td>40179</td>\n",
       "      <td>81</td>\n",
       "    </tr>\n",
       "    <tr>\n",
       "      <th>304040</th>\n",
       "      <td>320966</td>\n",
       "      <td>4e03c539-3323-4dbf-991c-c07dec29405b</td>\n",
       "      <td>1037406312</td>\n",
       "      <td>Frist 510</td>\n",
       "      <td>510</td>\n",
       "      <td>134</td>\n",
       "      <td>510</td>\n",
       "      <td>43941</td>\n",
       "      <td>43941</td>\n",
       "      <td>43942</td>\n",
       "      <td>...</td>\n",
       "      <td>3.06</td>\n",
       "      <td>D2066LUH47</td>\n",
       "      <td>5E</td>\n",
       "      <td>40350</td>\n",
       "      <td>1</td>\n",
       "      <td>03</td>\n",
       "      <td>2</td>\n",
       "      <td>0</td>\n",
       "      <td>40179</td>\n",
       "      <td>81</td>\n",
       "    </tr>\n",
       "    <tr>\n",
       "      <th>304041</th>\n",
       "      <td>320967</td>\n",
       "      <td>4e03c539-3323-4dbf-991c-c07dec29405b</td>\n",
       "      <td>1037406312</td>\n",
       "      <td>Frist 510</td>\n",
       "      <td>510</td>\n",
       "      <td>134</td>\n",
       "      <td>510</td>\n",
       "      <td>43941</td>\n",
       "      <td>43941</td>\n",
       "      <td>43942</td>\n",
       "      <td>...</td>\n",
       "      <td>3.06</td>\n",
       "      <td>D2066LUH47</td>\n",
       "      <td>5E</td>\n",
       "      <td>40350</td>\n",
       "      <td>1</td>\n",
       "      <td>03</td>\n",
       "      <td>2</td>\n",
       "      <td>0</td>\n",
       "      <td>40179</td>\n",
       "      <td>81</td>\n",
       "    </tr>\n",
       "    <tr>\n",
       "      <th>304042</th>\n",
       "      <td>320968</td>\n",
       "      <td>4e03c539-3323-4dbf-991c-c07dec29405b</td>\n",
       "      <td>1037409470</td>\n",
       "      <td>Frist 510</td>\n",
       "      <td>510</td>\n",
       "      <td>135</td>\n",
       "      <td>510</td>\n",
       "      <td>43941</td>\n",
       "      <td>43941</td>\n",
       "      <td>43941</td>\n",
       "      <td>...</td>\n",
       "      <td>3.06</td>\n",
       "      <td>D2066LUH47</td>\n",
       "      <td>5E</td>\n",
       "      <td>40350</td>\n",
       "      <td>1</td>\n",
       "      <td>03</td>\n",
       "      <td>2</td>\n",
       "      <td>0</td>\n",
       "      <td>40179</td>\n",
       "      <td>81</td>\n",
       "    </tr>\n",
       "    <tr>\n",
       "      <th>304046</th>\n",
       "      <td>320972</td>\n",
       "      <td>8f565646-d72e-4c8a-a581-8b1ad9ab200d</td>\n",
       "      <td>1037415573</td>\n",
       "      <td>außerplanm. Instand.-25</td>\n",
       "      <td>031</td>\n",
       "      <td>55</td>\n",
       "      <td>3301</td>\n",
       "      <td>43942</td>\n",
       "      <td>43942</td>\n",
       "      <td>43942</td>\n",
       "      <td>...</td>\n",
       "      <td>3.35</td>\n",
       "      <td>OM936LA</td>\n",
       "      <td>6</td>\n",
       "      <td>41541</td>\n",
       "      <td>10</td>\n",
       "      <td>04</td>\n",
       "      <td>2</td>\n",
       "      <td>1</td>\n",
       "      <td>41275</td>\n",
       "      <td>95</td>\n",
       "    </tr>\n",
       "  </tbody>\n",
       "</table>\n",
       "<p>5 rows × 34 columns</p>\n",
       "</div>"
      ],
      "text/plain": [
       "        Unnamed: 0                                 FZ-ID  AUFTRAGSNR  \\\n",
       "304039      320965  4e03c539-3323-4dbf-991c-c07dec29405b  1037406312   \n",
       "304040      320966  4e03c539-3323-4dbf-991c-c07dec29405b  1037406312   \n",
       "304041      320967  4e03c539-3323-4dbf-991c-c07dec29405b  1037406312   \n",
       "304042      320968  4e03c539-3323-4dbf-991c-c07dec29405b  1037409470   \n",
       "304046      320972  8f565646-d72e-4c8a-a581-8b1ad9ab200d  1037415573   \n",
       "\n",
       "                   AUFTRAGSTEXT  ILA  WHO_NUMMER AUFTRAGSART  ECKSTARTTERMIN  \\\n",
       "304039                Frist 510  510         134         510           43941   \n",
       "304040                Frist 510  510         134         510           43941   \n",
       "304041                Frist 510  510         134         510           43941   \n",
       "304042                Frist 510  510         135         510           43941   \n",
       "304046  außerplanm. Instand.-25  031          55        3301           43942   \n",
       "\n",
       "        ECKENDTERMIN  BEZUGSDATUM  ...  FZ_HOEHE    MOTORTYP EURONORM  \\\n",
       "304039         43941        43942  ...      3.06  D2066LUH47       5E   \n",
       "304040         43941        43942  ...      3.06  D2066LUH47       5E   \n",
       "304041         43941        43942  ...      3.06  D2066LUH47       5E   \n",
       "304042         43941        43941  ...      3.06  D2066LUH47       5E   \n",
       "304046         43942        43942  ...      3.35     OM936LA        6   \n",
       "\n",
       "       INBETRIEB_AB KLIMAANLAGE ABGASFILTER ANZAHL_TUEREN ZUL_100KMH  BAUJAHR  \\\n",
       "304039        40350           1          03             2          0    40179   \n",
       "304040        40350           1          03             2          0    40179   \n",
       "304041        40350           1          03             2          0    40179   \n",
       "304042        40350           1          03             2          0    40179   \n",
       "304046        41541          10          04             2          1    41275   \n",
       "\n",
       "        PLAETZE  \n",
       "304039       81  \n",
       "304040       81  \n",
       "304041       81  \n",
       "304042       81  \n",
       "304046       95  \n",
       "\n",
       "[5 rows x 34 columns]"
      ]
     },
     "execution_count": 11,
     "metadata": {},
     "output_type": "execute_result"
    }
   ],
   "source": [
    "isi_data_neu.tail()"
   ]
  },
  {
   "cell_type": "code",
   "execution_count": 12,
   "metadata": {},
   "outputs": [],
   "source": [
    "tele_data_neu.to_csv(\"tele_config_agg_clear.csv\")"
   ]
  },
  {
   "cell_type": "code",
   "execution_count": null,
   "metadata": {},
   "outputs": [],
   "source": [
    "isi_data_neu.to_csv(\"isi_data_final.csv\")"
   ]
  }
 ],
 "metadata": {
  "kernelspec": {
   "display_name": "Python 3",
   "language": "python",
   "name": "python3"
  },
  "language_info": {
   "codemirror_mode": {
    "name": "ipython",
    "version": 3
   },
   "file_extension": ".py",
   "mimetype": "text/x-python",
   "name": "python",
   "nbconvert_exporter": "python",
   "pygments_lexer": "ipython3",
   "version": "3.7.6"
  }
 },
 "nbformat": 4,
 "nbformat_minor": 4
}
