{
 "cells": [
  {
   "cell_type": "code",
   "execution_count": null,
   "metadata": {},
   "outputs": [],
   "source": [
    "library(dplyr)\n",
    "library(tidyverse)\n",
    "library(anytime)\n",
    "library(lubridate)\n",
    "\n",
    "\n",
    "#Aggregate data\n",
    "\n",
    "filepath = \"...\" #Path to tele data\n",
    "\n",
    "files = Sys.glob(filepath)\n",
    "\n",
    "aggregate <- function(file){\n",
    "    cat(\"Read File:\",file)\n",
    "    data = read.csv(file, sep=\"|\")\n",
    "\n",
    "    data$Timestamp = as.integer(data$Timestamp)\n",
    "    names(data)[1] <- \"FZ-ID\"\n",
    "    \n",
    "    data %>%\n",
    "      group_by(FZ-ID,Timestamp, Event) %>%\n",
    "      summarise(n = n(), mean = mean(Value), max = max(Value)) %>%\n",
    "      filter(Event %in% c(\"FE_SPEED\", \"FE_BRAKE\", \"FE_COAST\", \"FE_IDLE\")) -> data\n",
    "\n",
    "#     data$Timestamp = anydate(data$Timestamp)\n",
    "#     data$Timestamp = as.Date(data$Timestamp)-365*70\n",
    "    \n",
    "    name = paste(file,\"_neu.csv\", sep=\"\")\n",
    "    cat(\"New name: \",name)\n",
    "    write.csv(data,name, row.names = FALSE)\n",
    "}\n",
    "\n",
    "for(f in files){\n",
    "  aggregate(f)\n",
    "}"
   ]
  }
 ],
 "metadata": {
  "kernelspec": {
   "display_name": "pjs",
   "language": "python",
   "name": "pjs"
  },
  "language_info": {
   "codemirror_mode": {
    "name": "ipython",
    "version": 3
   },
   "file_extension": ".py",
   "mimetype": "text/x-python",
   "name": "python",
   "nbconvert_exporter": "python",
   "pygments_lexer": "ipython3",
   "version": "3.8.3"
  }
 },
 "nbformat": 4,
 "nbformat_minor": 4
}
