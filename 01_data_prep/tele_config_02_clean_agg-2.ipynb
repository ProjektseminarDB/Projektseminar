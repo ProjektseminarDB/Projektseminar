{
 "cells": [
  {
   "cell_type": "code",
   "execution_count": 1,
   "metadata": {},
   "outputs": [],
   "source": [
    "import pandas as pd\n",
    "import numpy as np\n",
    "import glob"
   ]
  },
  {
   "cell_type": "code",
   "execution_count": 7,
   "metadata": {},
   "outputs": [
    {
     "data": {
      "text/plain": [
       "['../Cleaned_Data/Tele_Aggregated/Telematik_Config_2019_9_neu.csv',\n",
       " '../Cleaned_Data/Tele_Aggregated/Telematik_Config_2019_1_neu.csv',\n",
       " '../Cleaned_Data/Tele_Aggregated/Telematik_Config_2019_10_neu.csv',\n",
       " '../Cleaned_Data/Tele_Aggregated/Telematik_Config_2019_8_neu.csv',\n",
       " '../Cleaned_Data/Tele_Aggregated/Telematik_Config_2020_1_neu.csv',\n",
       " '../Cleaned_Data/Tele_Aggregated/Telematik_Config_2020_4_neu.csv',\n",
       " '../Cleaned_Data/Tele_Aggregated/Telematik_Config_2019_7_neu.csv',\n",
       " '../Cleaned_Data/Tele_Aggregated/Telematik_Config_2019_2_neu.csv',\n",
       " '../Cleaned_Data/Tele_Aggregated/Telematik_Config_2019_4_neu.csv',\n",
       " '../Cleaned_Data/Tele_Aggregated/Telematik_Config_2019_12_neu.csv',\n",
       " '../Cleaned_Data/Tele_Aggregated/Telematik_Config_2019_5_neu.csv',\n",
       " '../Cleaned_Data/Tele_Aggregated/Telematik_Config_2020_2_neu.csv',\n",
       " '../Cleaned_Data/Tele_Aggregated/Telematik_Config_2019_3_neu.csv',\n",
       " '../Cleaned_Data/Tele_Aggregated/Telematik_Config_2020_3_neu.csv',\n",
       " '../Cleaned_Data/Tele_Aggregated/Telematik_Config_2019_11_neu.csv',\n",
       " '../Cleaned_Data/Tele_Aggregated/Telematik_Config_2019_6_neu.csv']"
      ]
     },
     "execution_count": 7,
     "metadata": {},
     "output_type": "execute_result"
    }
   ],
   "source": [
    "files = glob.glob(\"../Cleaned_Data/Tele_Aggregated/Telematik_Config_*.csv\")\n",
    "files"
   ]
  },
  {
   "cell_type": "code",
   "execution_count": 8,
   "metadata": {},
   "outputs": [],
   "source": [
    "dfs = []\n",
    "for filename in files:\n",
    "    dfs.append(pd.read_csv(filename))\n",
    "\n",
    "# Concatenate all data into one DataFrame\n",
    "big_frame = pd.concat(dfs, ignore_index=True)"
   ]
  },
  {
   "cell_type": "code",
   "execution_count": 9,
   "metadata": {},
   "outputs": [
    {
     "data": {
      "text/html": [
       "<div>\n",
       "<style scoped>\n",
       "    .dataframe tbody tr th:only-of-type {\n",
       "        vertical-align: middle;\n",
       "    }\n",
       "\n",
       "    .dataframe tbody tr th {\n",
       "        vertical-align: top;\n",
       "    }\n",
       "\n",
       "    .dataframe thead th {\n",
       "        text-align: right;\n",
       "    }\n",
       "</style>\n",
       "<table border=\"1\" class=\"dataframe\">\n",
       "  <thead>\n",
       "    <tr style=\"text-align: right;\">\n",
       "      <th></th>\n",
       "      <th>FZ-ID</th>\n",
       "      <th>Timestamp</th>\n",
       "      <th>Event</th>\n",
       "      <th>n</th>\n",
       "      <th>mean</th>\n",
       "      <th>max</th>\n",
       "    </tr>\n",
       "  </thead>\n",
       "  <tbody>\n",
       "    <tr>\n",
       "      <th>0</th>\n",
       "      <td>002d233c-776c-4b76-a64a-a5a348c246e4</td>\n",
       "      <td>2019-09-21</td>\n",
       "      <td>FE_BRAKE</td>\n",
       "      <td>211</td>\n",
       "      <td>-17.188626</td>\n",
       "      <td>-1.1</td>\n",
       "    </tr>\n",
       "    <tr>\n",
       "      <th>1</th>\n",
       "      <td>002d233c-776c-4b76-a64a-a5a348c246e4</td>\n",
       "      <td>2019-09-21</td>\n",
       "      <td>FE_COAST</td>\n",
       "      <td>291</td>\n",
       "      <td>163.024055</td>\n",
       "      <td>1340.0</td>\n",
       "    </tr>\n",
       "    <tr>\n",
       "      <th>2</th>\n",
       "      <td>002d233c-776c-4b76-a64a-a5a348c246e4</td>\n",
       "      <td>2019-09-21</td>\n",
       "      <td>FE_IDLE</td>\n",
       "      <td>1</td>\n",
       "      <td>382.000000</td>\n",
       "      <td>382.0</td>\n",
       "    </tr>\n",
       "    <tr>\n",
       "      <th>3</th>\n",
       "      <td>002d233c-776c-4b76-a64a-a5a348c246e4</td>\n",
       "      <td>2019-09-21</td>\n",
       "      <td>FE_SPEED</td>\n",
       "      <td>5</td>\n",
       "      <td>82.680000</td>\n",
       "      <td>83.6</td>\n",
       "    </tr>\n",
       "    <tr>\n",
       "      <th>4</th>\n",
       "      <td>002d233c-776c-4b76-a64a-a5a348c246e4</td>\n",
       "      <td>2019-09-22</td>\n",
       "      <td>FE_BRAKE</td>\n",
       "      <td>158</td>\n",
       "      <td>-16.835443</td>\n",
       "      <td>0.7</td>\n",
       "    </tr>\n",
       "  </tbody>\n",
       "</table>\n",
       "</div>"
      ],
      "text/plain": [
       "                                  FZ-ID   Timestamp     Event    n  \\\n",
       "0  002d233c-776c-4b76-a64a-a5a348c246e4  2019-09-21  FE_BRAKE  211   \n",
       "1  002d233c-776c-4b76-a64a-a5a348c246e4  2019-09-21  FE_COAST  291   \n",
       "2  002d233c-776c-4b76-a64a-a5a348c246e4  2019-09-21   FE_IDLE    1   \n",
       "3  002d233c-776c-4b76-a64a-a5a348c246e4  2019-09-21  FE_SPEED    5   \n",
       "4  002d233c-776c-4b76-a64a-a5a348c246e4  2019-09-22  FE_BRAKE  158   \n",
       "\n",
       "         mean     max  \n",
       "0  -17.188626    -1.1  \n",
       "1  163.024055  1340.0  \n",
       "2  382.000000   382.0  \n",
       "3   82.680000    83.6  \n",
       "4  -16.835443     0.7  "
      ]
     },
     "execution_count": 9,
     "metadata": {},
     "output_type": "execute_result"
    }
   ],
   "source": [
    "big_frame.head()"
   ]
  },
  {
   "cell_type": "code",
   "execution_count": 10,
   "metadata": {},
   "outputs": [
    {
     "data": {
      "text/plain": [
       "(2773789, 6)"
      ]
     },
     "execution_count": 10,
     "metadata": {},
     "output_type": "execute_result"
    }
   ],
   "source": [
    "big_frame.shape"
   ]
  },
  {
   "cell_type": "code",
   "execution_count": 11,
   "metadata": {},
   "outputs": [],
   "source": [
    "big_frame = big_frame.sort_values(by=['Timestamp'])"
   ]
  },
  {
   "cell_type": "code",
   "execution_count": 12,
   "metadata": {},
   "outputs": [],
   "source": [
    "big_frame.to_csv(\"../Cleaned_Data/Tele_Aggregated/Telematik_Config_Agg.csv\", index=False)"
   ]
  }
 ],
 "metadata": {
  "kernelspec": {
   "display_name": "pjs",
   "language": "python",
   "name": "pjs"
  },
  "language_info": {
   "codemirror_mode": {
    "name": "ipython",
    "version": 3
   },
   "file_extension": ".py",
   "mimetype": "text/x-python",
   "name": "python",
   "nbconvert_exporter": "python",
   "pygments_lexer": "ipython3",
   "version": "3.8.3"
  }
 },
 "nbformat": 4,
 "nbformat_minor": 4
}
