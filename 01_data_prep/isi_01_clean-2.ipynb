{
 "cells": [
  {
   "cell_type": "code",
   "execution_count": 1,
   "metadata": {},
   "outputs": [
    {
     "name": "stderr",
     "output_type": "stream",
     "text": [
      "/home/dbpjs/anaconda3/envs/pjs/lib/python3.8/site-packages/IPython/core/interactiveshell.py:3062: DtypeWarning: Columns (1) have mixed types.Specify dtype option on import or set low_memory=False.\n",
      "  has_raised = await self.run_ast_nodes(code_ast.body, cell_name,\n"
     ]
    }
   ],
   "source": [
    "#Setup\n",
    "import pandas as pd\n",
    "import numpy as np\n",
    "\n",
    "#Reading Data\n",
    "isi_auftragsdetails = pd.read_csv(\"../data/ISI_Daten/ISI_Auftragsdetails_s822.csv\", sep=\"|\")\n",
    "isi_auftraege = pd.read_csv(\"../data/ISI_Daten/ISI_Auftraege.csv\", sep=\"|\")\n",
    "isi_aufenthalt = pd.read_csv(\"../data/ISI_Daten/ISI_FzAufenthalte.csv\", sep=\"|\")\n",
    "isi_stamm = pd.read_csv(\"../data/ISI_Daten/ISI_Stammdaten.csv\", sep=\"|\")"
   ]
  },
  {
   "cell_type": "code",
   "execution_count": 2,
   "metadata": {},
   "outputs": [],
   "source": [
    "##############################################################################\n",
    "#Bus-IDs filtern:\n",
    "##############################################################################"
   ]
  },
  {
   "cell_type": "code",
   "execution_count": 3,
   "metadata": {},
   "outputs": [],
   "source": [
    "# isi_auftragsdetails = isi_auftragsdetails['FZ_NR'].unique()\n",
    "# ids_aufenthalt = isi_aufenthalt['FZ-ID'].unique()\n",
    "# ids_stamm = isi_stamm['FZ-ID'].unique()\n",
    "\n",
    "# common_ids = list(set(ids_auftrag) & set(ids_aufenthalt) & set(ids_stamm))\n",
    "# common_ids =list(map(str, common_ids))\n",
    "\n",
    "#all_ids = pd.read_csv(\"../Cleaned_Data/combined_ids.csv\")\n",
    "\n",
    "#all_ids[\"Spalte\"]=all_ids[0:]\n",
    "\n",
    "#isi_auftragsdetails = isi_auftragsdetails[~isi_auftragsdetails[\"FZ_NR\"].isin(all_ids[\"Spalte\"])]\n",
    "#isi_aufenthalt = isi_aufenthalt[~isi_aufenthalt['FZ-ID'].isin(all_ids[\"Spalte\"])]\n",
    "#isi_stamm = isi_stamm[~isi_stamm['FZ-ID'].isin(all_ids[\"Spalte\"])]\n",
    "#isi_auftraege = isi_auftraege[~isi_auftraege['FZ_NR'].isin(all_ids[\"Spalte\"])]"
   ]
  },
  {
   "cell_type": "code",
   "execution_count": 7,
   "metadata": {},
   "outputs": [],
   "source": [
    "##############################################################################\n",
    "#Clean Auftragsdetails\n",
    "##############################################################################"
   ]
  },
  {
   "cell_type": "code",
   "execution_count": 8,
   "metadata": {},
   "outputs": [],
   "source": [
    "#Duplikate entfernen\n",
    "isi_auftragsdetails = isi_auftragsdetails.drop_duplicates()\n",
    "\n",
    "#Spaltennamen anpassen\n",
    "isi_auftragsdetails = isi_auftragsdetails.rename(columns={'FZ_NR': 'FZ-ID'})\n",
    "\n",
    "#Unnötige Spalten löschen\n",
    "isi_auftragsdetails = isi_auftragsdetails.drop(['WERK'], axis=1)"
   ]
  },
  {
   "cell_type": "code",
   "execution_count": 9,
   "metadata": {},
   "outputs": [],
   "source": [
    "##############################################################################\n",
    "#Clean Aufenthalt\n",
    "##############################################################################v"
   ]
  },
  {
   "cell_type": "code",
   "execution_count": 10,
   "metadata": {},
   "outputs": [],
   "source": [
    "#Duplikate entfernen\n",
    "isi_aufenthalt = isi_aufenthalt.drop_duplicates()\n",
    "\n",
    "#WHO-Nummer umrechnen\n",
    "isi_aufenthalt['WHO_NUMMER'] = isi_aufenthalt['WHO_NUMMER'] - 1000000000\n",
    "\n",
    "#Unnötige Spalten entfernen\n",
    "isi_aufenthalt = isi_aufenthalt.drop(['FZ_TYP', 'HZG', 'DAT_WERKSBEZUG', 'PLAN_ÜBERGABE_1', 'PLAN_ÜBERGABE_2'], axis=1)\n",
    "\n",
    "#Timestamp \"DAT_AUSBUCH\" zu Integer wechseln\n",
    "isi_aufenthalt[\"DAT_AUSBUCH\"] = isi_aufenthalt.apply(\n",
    "    lambda row: 0 if np.isnan(row['DAT_AUSBUCH']) else row['DAT_AUSBUCH'],\n",
    "    axis=1)\n",
    "\n",
    "isi_aufenthalt[\"DAT_AUSBUCH\"] = isi_aufenthalt[\"DAT_AUSBUCH\"].astype(int)"
   ]
  },
  {
   "cell_type": "code",
   "execution_count": 11,
   "metadata": {},
   "outputs": [],
   "source": [
    "##############################################################################\n",
    "#Clean Stammdaten\n",
    "#############################################################################"
   ]
  },
  {
   "cell_type": "code",
   "execution_count": 12,
   "metadata": {},
   "outputs": [],
   "source": [
    "#Duplikate entfernen\n",
    "isi_stamm = isi_stamm.drop_duplicates()\n",
    "\n",
    "#Busmaße in Meter umwandeln\n",
    "isi_stamm['FZ_LAENGE'] = isi_stamm['FZ_LAENGE'] / 1000\n",
    "isi_stamm['FZ_BREITE'] = isi_stamm['FZ_BREITE'] / 1000\n",
    "isi_stamm['FZ_HOEHE'] = isi_stamm['FZ_HOEHE'] / 1000\n",
    "\n",
    "#Unnötige Spalten löschen\n",
    "isi_stamm = isi_stamm.drop(['WERKSTATT_NAME', 'CHASSIS_BAUART', 'D2_TYP', 'KRAFTSTOFF_ART', 'NENNLEISTUNG', 'MARKE', 'ZULASSUNGSDATUM', 'REISEGESCHWINDGK'], axis=1)\n",
    "\n",
    "#Plätze kombinieren und alte Spalten löschen\n",
    "isi_stamm['PLAETZE'] = isi_stamm['SITZPLAETZE'] + isi_stamm['STEHPLAETZE']\n",
    "isi_stamm = isi_stamm.drop(['SITZPLAETZE','STEHPLAETZE' ], axis=1)\n",
    "\n",
    "#Inaktive Fahrzeuge entfernen\n",
    "isi_stamm = isi_stamm[isi_stamm['AKTIV'] != 0]\n",
    "\n",
    "#Klima kategorisieren\n",
    "isi_stamm['KLIMAANLAGE'] = isi_stamm['KLIMAANLAGE'].astype('category').cat.codes\n",
    "isi_stamm['KLIMAANLAGE'] = isi_stamm['KLIMAANLAGE'] + 1"
   ]
  },
  {
   "cell_type": "code",
   "execution_count": 13,
   "metadata": {},
   "outputs": [],
   "source": [
    "##############################################################################\n",
    "#Clean Auftrage\n",
    "#############################################################################"
   ]
  },
  {
   "cell_type": "code",
   "execution_count": 15,
   "metadata": {},
   "outputs": [],
   "source": [
    "#Duplikate entfernen\n",
    "#isi_auftraege = isi_auftraege.drop_duplicates()\n",
    "\n",
    "#Spaltennamen anpassen\n",
    "isi_auftraege = isi_auftraege.rename(columns={'FZ_NR': 'FZ-ID'})\n",
    "isi_auftraege = isi_auftraege.rename(columns={'AUFTRAG': 'AUFTRAGSNR'})\n",
    "\n",
    "#WHO-Nummer umrechnen\n",
    "isi_auftraege['WHO_NUMMER'] = isi_auftraege['WHO_NUMMER'] + 1000000000\n",
    "\n",
    "#Unnötige Spalten entfernen\n",
    "isi_auftraege = isi_auftraege.drop(['WERK', 'AUSGANG', 'SYSTEMSTATUS', 'ARBEITSPLATZ', 'BAHNSTELLE'], axis=1)\n",
    "\n",
    "#Timestamp \"UPDATE_DATE\" zu Integer wechseln\n",
    "# isi_aufenthalt[\"UPDATE_DATE\"] = isi_aufenthalt.apply(\n",
    "#     lambda row: 0 if np.isnan(row['UPDATE_DATE']) else row['UPDATE_DATE'], axis=1)\n",
    "\n",
    "# isi_aufenthalt[\"UPDATE_DATE\"] = isi_aufenthalt[\"UPDATE_DATE\"].astype(int)"
   ]
  },
  {
   "cell_type": "code",
   "execution_count": 16,
   "metadata": {},
   "outputs": [],
   "source": [
    "##############################################################################\n",
    "#Neue Daten speichern\n",
    "##############################################################################"
   ]
  },
  {
   "cell_type": "code",
   "execution_count": 17,
   "metadata": {},
   "outputs": [],
   "source": [
    "isi_stamm.to_csv(\"../Cleaned_Data/isi_stammdaten.csv\")\n",
    "isi_aufenthalt.to_csv(\"../Cleaned_Data/isi_aufenthalt.csv\")\n",
    "isi_auftragsdetails.to_csv(\"../Cleaned_Data/isi_auftragsdetails.csv\")\n",
    "isi_auftraege.to_csv(\"../Cleaned_Data/isi_auftraege.csv\")"
   ]
  }
 ],
 "metadata": {
  "kernelspec": {
   "display_name": "pjs",
   "language": "python",
   "name": "pjs"
  },
  "language_info": {
   "codemirror_mode": {
    "name": "ipython",
    "version": 3
   },
   "file_extension": ".py",
   "mimetype": "text/x-python",
   "name": "python",
   "nbconvert_exporter": "python",
   "pygments_lexer": "ipython3",
   "version": "3.8.3"
  }
 },
 "nbformat": 4,
 "nbformat_minor": 4
}
