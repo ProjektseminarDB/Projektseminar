{
 "cells": [
  {
   "cell_type": "code",
   "execution_count": 1,
   "metadata": {},
   "outputs": [],
   "source": [
    "import pandas as pd\n",
    "import datetime as dt"
   ]
  },
  {
   "cell_type": "markdown",
   "metadata": {},
   "source": [
    "### Telematik Config muss noch einmal gefiltert werden, da sich die Anzahl der gemeinsamen Busse über Telematik_Tracking auf 2758 reduziert hat"
   ]
  },
  {
   "cell_type": "code",
   "execution_count": 2,
   "metadata": {},
   "outputs": [],
   "source": [
    "isi_final = pd.read_csv(\"../data_final/isi_final.csv\")"
   ]
  },
  {
   "cell_type": "code",
   "execution_count": 3,
   "metadata": {},
   "outputs": [
    {
     "data": {
      "text/html": [
       "<div>\n",
       "<style scoped>\n",
       "    .dataframe tbody tr th:only-of-type {\n",
       "        vertical-align: middle;\n",
       "    }\n",
       "\n",
       "    .dataframe tbody tr th {\n",
       "        vertical-align: top;\n",
       "    }\n",
       "\n",
       "    .dataframe thead th {\n",
       "        text-align: right;\n",
       "    }\n",
       "</style>\n",
       "<table border=\"1\" class=\"dataframe\">\n",
       "  <thead>\n",
       "    <tr style=\"text-align: right;\">\n",
       "      <th></th>\n",
       "      <th>Unnamed: 0</th>\n",
       "      <th>Unnamed: 0.1</th>\n",
       "      <th>Unnamed: 0.1.1</th>\n",
       "      <th>FZ-ID</th>\n",
       "      <th>AUFTRAGSNR</th>\n",
       "      <th>AUFTRAGSTEXT</th>\n",
       "      <th>ILA</th>\n",
       "      <th>WHO_NUMMER</th>\n",
       "      <th>AUFTRAGSART</th>\n",
       "      <th>ECKSTARTTERMIN</th>\n",
       "      <th>...</th>\n",
       "      <th>FZ_HOEHE</th>\n",
       "      <th>MOTORTYP</th>\n",
       "      <th>EURONORM</th>\n",
       "      <th>INBETRIEB_AB</th>\n",
       "      <th>KLIMAANLAGE</th>\n",
       "      <th>ABGASFILTER</th>\n",
       "      <th>ANZAHL_TUEREN</th>\n",
       "      <th>ZUL_100KMH</th>\n",
       "      <th>BAUJAHR</th>\n",
       "      <th>PLAETZE</th>\n",
       "    </tr>\n",
       "  </thead>\n",
       "  <tbody>\n",
       "    <tr>\n",
       "      <th>0</th>\n",
       "      <td>0</td>\n",
       "      <td>0</td>\n",
       "      <td>0</td>\n",
       "      <td>18123c7c-2a7a-4614-b35e-05e5d3fb60c9</td>\n",
       "      <td>1034311104</td>\n",
       "      <td>außerplanm. Instandsetzung</td>\n",
       "      <td>030</td>\n",
       "      <td>43</td>\n",
       "      <td>510</td>\n",
       "      <td>43374</td>\n",
       "      <td>...</td>\n",
       "      <td>3.23</td>\n",
       "      <td>IVECO F2B CURSOR 9</td>\n",
       "      <td>6</td>\n",
       "      <td>41955</td>\n",
       "      <td>5</td>\n",
       "      <td>02</td>\n",
       "      <td>2</td>\n",
       "      <td>0</td>\n",
       "      <td>41640</td>\n",
       "      <td>85</td>\n",
       "    </tr>\n",
       "  </tbody>\n",
       "</table>\n",
       "<p>1 rows × 36 columns</p>\n",
       "</div>"
      ],
      "text/plain": [
       "   Unnamed: 0  Unnamed: 0.1  Unnamed: 0.1.1  \\\n",
       "0           0             0               0   \n",
       "\n",
       "                                  FZ-ID  AUFTRAGSNR  \\\n",
       "0  18123c7c-2a7a-4614-b35e-05e5d3fb60c9  1034311104   \n",
       "\n",
       "                 AUFTRAGSTEXT  ILA  WHO_NUMMER AUFTRAGSART  ECKSTARTTERMIN  \\\n",
       "0  außerplanm. Instandsetzung  030          43         510           43374   \n",
       "\n",
       "   ...  FZ_HOEHE            MOTORTYP  EURONORM INBETRIEB_AB KLIMAANLAGE  \\\n",
       "0  ...      3.23  IVECO F2B CURSOR 9         6        41955           5   \n",
       "\n",
       "  ABGASFILTER ANZAHL_TUEREN ZUL_100KMH BAUJAHR PLAETZE  \n",
       "0          02             2          0   41640      85  \n",
       "\n",
       "[1 rows x 36 columns]"
      ]
     },
     "execution_count": 3,
     "metadata": {},
     "output_type": "execute_result"
    }
   ],
   "source": [
    "isi_final.head(1)"
   ]
  },
  {
   "cell_type": "code",
   "execution_count": 5,
   "metadata": {},
   "outputs": [
    {
     "data": {
      "text/plain": [
       "2758"
      ]
     },
     "execution_count": 5,
     "metadata": {},
     "output_type": "execute_result"
    }
   ],
   "source": [
    "isi_final[\"FZ-ID\"].nunique()"
   ]
  },
  {
   "cell_type": "code",
   "execution_count": 6,
   "metadata": {},
   "outputs": [
    {
     "data": {
      "text/plain": [
       "Unnamed: 0             0\n",
       "Unnamed: 0.1           0\n",
       "Unnamed: 0.1.1         0\n",
       "FZ-ID                  0\n",
       "AUFTRAGSNR             0\n",
       "AUFTRAGSTEXT           0\n",
       "ILA                    0\n",
       "WHO_NUMMER             0\n",
       "AUFTRAGSART            0\n",
       "ECKSTARTTERMIN         0\n",
       "ECKENDTERMIN           0\n",
       "BEZUGSDATUM            0\n",
       "UEBERGEORDN_AUFTRAG    0\n",
       "BAUART                 0\n",
       "AUFTRAGSBEZEICHNUNG    0\n",
       "PRODUKTCODE            0\n",
       "PRODUKTBEZEICHNUNG     0\n",
       "WERK                   0\n",
       "ILA_GRUPPE             0\n",
       "REGION                 0\n",
       "DAT_EINBUCH            0\n",
       "DAT_AUSBUCH            0\n",
       "BABR                   0\n",
       "FZ_KATEGORIE           0\n",
       "FZ_LAENGE              0\n",
       "FZ_BREITE              0\n",
       "FZ_HOEHE               0\n",
       "MOTORTYP               0\n",
       "EURONORM               0\n",
       "INBETRIEB_AB           0\n",
       "KLIMAANLAGE            0\n",
       "ABGASFILTER            0\n",
       "ANZAHL_TUEREN          0\n",
       "ZUL_100KMH             0\n",
       "BAUJAHR                0\n",
       "PLAETZE                0\n",
       "dtype: int64"
      ]
     },
     "execution_count": 6,
     "metadata": {},
     "output_type": "execute_result"
    }
   ],
   "source": [
    "isi_final.isna().sum()"
   ]
  },
  {
   "cell_type": "code",
   "execution_count": 7,
   "metadata": {},
   "outputs": [],
   "source": [
    "config_final = pd.read_csv(\"../data_final/tele_config_final.csv\")"
   ]
  },
  {
   "cell_type": "code",
   "execution_count": 9,
   "metadata": {},
   "outputs": [
    {
     "data": {
      "text/html": [
       "<div>\n",
       "<style scoped>\n",
       "    .dataframe tbody tr th:only-of-type {\n",
       "        vertical-align: middle;\n",
       "    }\n",
       "\n",
       "    .dataframe tbody tr th {\n",
       "        vertical-align: top;\n",
       "    }\n",
       "\n",
       "    .dataframe thead th {\n",
       "        text-align: right;\n",
       "    }\n",
       "</style>\n",
       "<table border=\"1\" class=\"dataframe\">\n",
       "  <thead>\n",
       "    <tr style=\"text-align: right;\">\n",
       "      <th></th>\n",
       "      <th>Unnamed: 0</th>\n",
       "      <th>FZ-ID</th>\n",
       "      <th>Timestamp</th>\n",
       "      <th>Event</th>\n",
       "      <th>n</th>\n",
       "      <th>mean</th>\n",
       "      <th>max</th>\n",
       "    </tr>\n",
       "  </thead>\n",
       "  <tbody>\n",
       "    <tr>\n",
       "      <th>0</th>\n",
       "      <td>1</td>\n",
       "      <td>3f7efdc1-77f0-4b54-b63c-a696d11177bd</td>\n",
       "      <td>2019-01-20</td>\n",
       "      <td>FE_SPEED</td>\n",
       "      <td>1</td>\n",
       "      <td>82.6</td>\n",
       "      <td>82.6</td>\n",
       "    </tr>\n",
       "  </tbody>\n",
       "</table>\n",
       "</div>"
      ],
      "text/plain": [
       "   Unnamed: 0                                 FZ-ID   Timestamp     Event  n  \\\n",
       "0           1  3f7efdc1-77f0-4b54-b63c-a696d11177bd  2019-01-20  FE_SPEED  1   \n",
       "\n",
       "   mean   max  \n",
       "0  82.6  82.6  "
      ]
     },
     "execution_count": 9,
     "metadata": {},
     "output_type": "execute_result"
    }
   ],
   "source": [
    "config_final.head(1)"
   ]
  },
  {
   "cell_type": "code",
   "execution_count": 8,
   "metadata": {},
   "outputs": [
    {
     "data": {
      "text/plain": [
       "2894"
      ]
     },
     "execution_count": 8,
     "metadata": {},
     "output_type": "execute_result"
    }
   ],
   "source": [
    "config_final[\"FZ-ID\"].nunique()"
   ]
  },
  {
   "cell_type": "code",
   "execution_count": 12,
   "metadata": {},
   "outputs": [],
   "source": [
    "config_final_neu = config_final[config_final['FZ-ID'].isin(isi_final['FZ-ID'])]"
   ]
  },
  {
   "cell_type": "code",
   "execution_count": 13,
   "metadata": {},
   "outputs": [
    {
     "data": {
      "text/plain": [
       "2758"
      ]
     },
     "execution_count": 13,
     "metadata": {},
     "output_type": "execute_result"
    }
   ],
   "source": [
    "config_final_neu[\"FZ-ID\"].nunique()"
   ]
  },
  {
   "cell_type": "code",
   "execution_count": 14,
   "metadata": {},
   "outputs": [
    {
     "data": {
      "text/html": [
       "<div>\n",
       "<style scoped>\n",
       "    .dataframe tbody tr th:only-of-type {\n",
       "        vertical-align: middle;\n",
       "    }\n",
       "\n",
       "    .dataframe tbody tr th {\n",
       "        vertical-align: top;\n",
       "    }\n",
       "\n",
       "    .dataframe thead th {\n",
       "        text-align: right;\n",
       "    }\n",
       "</style>\n",
       "<table border=\"1\" class=\"dataframe\">\n",
       "  <thead>\n",
       "    <tr style=\"text-align: right;\">\n",
       "      <th></th>\n",
       "      <th>Unnamed: 0</th>\n",
       "      <th>FZ-ID</th>\n",
       "      <th>Timestamp</th>\n",
       "      <th>Event</th>\n",
       "      <th>n</th>\n",
       "      <th>mean</th>\n",
       "      <th>max</th>\n",
       "    </tr>\n",
       "  </thead>\n",
       "  <tbody>\n",
       "    <tr>\n",
       "      <th>0</th>\n",
       "      <td>1</td>\n",
       "      <td>3f7efdc1-77f0-4b54-b63c-a696d11177bd</td>\n",
       "      <td>2019-01-20</td>\n",
       "      <td>FE_SPEED</td>\n",
       "      <td>1</td>\n",
       "      <td>82.6</td>\n",
       "      <td>82.6</td>\n",
       "    </tr>\n",
       "  </tbody>\n",
       "</table>\n",
       "</div>"
      ],
      "text/plain": [
       "   Unnamed: 0                                 FZ-ID   Timestamp     Event  n  \\\n",
       "0           1  3f7efdc1-77f0-4b54-b63c-a696d11177bd  2019-01-20  FE_SPEED  1   \n",
       "\n",
       "   mean   max  \n",
       "0  82.6  82.6  "
      ]
     },
     "execution_count": 14,
     "metadata": {},
     "output_type": "execute_result"
    }
   ],
   "source": [
    "config_final_neu.head(1)"
   ]
  },
  {
   "cell_type": "markdown",
   "metadata": {},
   "source": [
    "### Test: config in isi"
   ]
  },
  {
   "cell_type": "code",
   "execution_count": 10,
   "metadata": {},
   "outputs": [],
   "source": [
    "isi_final_neu = isi_final[isi_final['FZ-ID'].isin(config_final['FZ-ID'])]"
   ]
  },
  {
   "cell_type": "code",
   "execution_count": 11,
   "metadata": {},
   "outputs": [
    {
     "data": {
      "text/plain": [
       "2758"
      ]
     },
     "execution_count": 11,
     "metadata": {},
     "output_type": "execute_result"
    }
   ],
   "source": [
    "isi_final_neu[\"FZ-ID\"].nunique()"
   ]
  },
  {
   "cell_type": "markdown",
   "metadata": {},
   "source": [
    "### Neue Config-Datei exportieren"
   ]
  },
  {
   "cell_type": "code",
   "execution_count": 15,
   "metadata": {},
   "outputs": [],
   "source": [
    "config_final_neu.to_csv(\"../data_final/tele_config_final.csv\")"
   ]
  }
 ],
 "metadata": {
  "kernelspec": {
   "display_name": "pjs",
   "language": "python",
   "name": "pjs"
  },
  "language_info": {
   "codemirror_mode": {
    "name": "ipython",
    "version": 3
   },
   "file_extension": ".py",
   "mimetype": "text/x-python",
   "name": "python",
   "nbconvert_exporter": "python",
   "pygments_lexer": "ipython3",
   "version": "3.8.3"
  }
 },
 "nbformat": 4,
 "nbformat_minor": 4
}
