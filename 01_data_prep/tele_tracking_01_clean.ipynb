{
 "cells": [
  {
   "cell_type": "code",
   "execution_count": 2,
   "metadata": {},
   "outputs": [],
   "source": [
    "import pandas as pd\n",
    "import matplotlib.pyplot as plt\n",
    "import seaborn as sns"
   ]
  },
  {
   "cell_type": "code",
   "execution_count": 3,
   "metadata": {},
   "outputs": [],
   "source": [
    "tele_tracking = pd.read_csv(\"../Cleaned_Data/Telematik_Tracking.csv\", sep=\",\")"
   ]
  },
  {
   "cell_type": "code",
   "execution_count": 4,
   "metadata": {},
   "outputs": [
    {
     "data": {
      "text/html": [
       "<div>\n",
       "<style scoped>\n",
       "    .dataframe tbody tr th:only-of-type {\n",
       "        vertical-align: middle;\n",
       "    }\n",
       "\n",
       "    .dataframe tbody tr th {\n",
       "        vertical-align: top;\n",
       "    }\n",
       "\n",
       "    .dataframe thead th {\n",
       "        text-align: right;\n",
       "    }\n",
       "</style>\n",
       "<table border=\"1\" class=\"dataframe\">\n",
       "  <thead>\n",
       "    <tr style=\"text-align: right;\">\n",
       "      <th></th>\n",
       "      <th>Unnamed: 0</th>\n",
       "      <th>FZ-ID</th>\n",
       "      <th>Start_Date</th>\n",
       "      <th>Start_time</th>\n",
       "      <th>Start_milage</th>\n",
       "      <th>Status_login</th>\n",
       "      <th>Idling</th>\n",
       "      <th>Trafic_Type</th>\n",
       "      <th>Consumption</th>\n",
       "      <th>Distance</th>\n",
       "      <th>Speed_max</th>\n",
       "      <th>End_Date</th>\n",
       "      <th>End_time</th>\n",
       "      <th>End_milage</th>\n",
       "      <th>Start_Time</th>\n",
       "      <th>End_Time</th>\n",
       "    </tr>\n",
       "  </thead>\n",
       "  <tbody>\n",
       "    <tr>\n",
       "      <th>0</th>\n",
       "      <td>0</td>\n",
       "      <td>4d425dc0-055b-4199-93dd-363854aa9f59</td>\n",
       "      <td>43831</td>\n",
       "      <td>0.853738</td>\n",
       "      <td>0.0</td>\n",
       "      <td>0</td>\n",
       "      <td>0.0</td>\n",
       "      <td>populated</td>\n",
       "      <td>5539.0</td>\n",
       "      <td>19730</td>\n",
       "      <td>58.0</td>\n",
       "      <td>43831</td>\n",
       "      <td>0.884988</td>\n",
       "      <td>0.0</td>\n",
       "      <td>43831.853738</td>\n",
       "      <td>43831.884988</td>\n",
       "    </tr>\n",
       "  </tbody>\n",
       "</table>\n",
       "</div>"
      ],
      "text/plain": [
       "   Unnamed: 0                                 FZ-ID  Start_Date  Start_time  \\\n",
       "0           0  4d425dc0-055b-4199-93dd-363854aa9f59       43831    0.853738   \n",
       "\n",
       "   Start_milage  Status_login  Idling Trafic_Type  Consumption  Distance  \\\n",
       "0           0.0             0     0.0   populated       5539.0     19730   \n",
       "\n",
       "   Speed_max  End_Date  End_time  End_milage    Start_Time      End_Time  \n",
       "0       58.0     43831  0.884988         0.0  43831.853738  43831.884988  "
      ]
     },
     "execution_count": 4,
     "metadata": {},
     "output_type": "execute_result"
    }
   ],
   "source": [
    "tele_tracking.head(1)"
   ]
  },
  {
   "cell_type": "code",
   "execution_count": 5,
   "metadata": {},
   "outputs": [],
   "source": [
    "isi_data = pd.read_csv(\"../data_final/isi_final.csv\", sep=\",\")"
   ]
  },
  {
   "cell_type": "code",
   "execution_count": 6,
   "metadata": {},
   "outputs": [
    {
     "data": {
      "text/html": [
       "<div>\n",
       "<style scoped>\n",
       "    .dataframe tbody tr th:only-of-type {\n",
       "        vertical-align: middle;\n",
       "    }\n",
       "\n",
       "    .dataframe tbody tr th {\n",
       "        vertical-align: top;\n",
       "    }\n",
       "\n",
       "    .dataframe thead th {\n",
       "        text-align: right;\n",
       "    }\n",
       "</style>\n",
       "<table border=\"1\" class=\"dataframe\">\n",
       "  <thead>\n",
       "    <tr style=\"text-align: right;\">\n",
       "      <th></th>\n",
       "      <th>Unnamed: 0</th>\n",
       "      <th>Unnamed: 0.1</th>\n",
       "      <th>FZ-ID</th>\n",
       "      <th>AUFTRAGSNR</th>\n",
       "      <th>AUFTRAGSTEXT</th>\n",
       "      <th>ILA</th>\n",
       "      <th>WHO_NUMMER</th>\n",
       "      <th>AUFTRAGSART</th>\n",
       "      <th>ECKSTARTTERMIN</th>\n",
       "      <th>ECKENDTERMIN</th>\n",
       "      <th>...</th>\n",
       "      <th>FZ_HOEHE</th>\n",
       "      <th>MOTORTYP</th>\n",
       "      <th>EURONORM</th>\n",
       "      <th>INBETRIEB_AB</th>\n",
       "      <th>KLIMAANLAGE</th>\n",
       "      <th>ABGASFILTER</th>\n",
       "      <th>ANZAHL_TUEREN</th>\n",
       "      <th>ZUL_100KMH</th>\n",
       "      <th>BAUJAHR</th>\n",
       "      <th>PLAETZE</th>\n",
       "    </tr>\n",
       "  </thead>\n",
       "  <tbody>\n",
       "    <tr>\n",
       "      <th>0</th>\n",
       "      <td>0</td>\n",
       "      <td>0</td>\n",
       "      <td>18123c7c-2a7a-4614-b35e-05e5d3fb60c9</td>\n",
       "      <td>1034311104</td>\n",
       "      <td>außerplanm. Instandsetzung</td>\n",
       "      <td>030</td>\n",
       "      <td>43</td>\n",
       "      <td>510</td>\n",
       "      <td>43374</td>\n",
       "      <td>43374</td>\n",
       "      <td>...</td>\n",
       "      <td>3.23</td>\n",
       "      <td>IVECO F2B CURSOR 9</td>\n",
       "      <td>6</td>\n",
       "      <td>41955</td>\n",
       "      <td>5</td>\n",
       "      <td>02</td>\n",
       "      <td>2</td>\n",
       "      <td>0</td>\n",
       "      <td>41640</td>\n",
       "      <td>85</td>\n",
       "    </tr>\n",
       "  </tbody>\n",
       "</table>\n",
       "<p>1 rows × 35 columns</p>\n",
       "</div>"
      ],
      "text/plain": [
       "   Unnamed: 0  Unnamed: 0.1                                 FZ-ID  AUFTRAGSNR  \\\n",
       "0           0             0  18123c7c-2a7a-4614-b35e-05e5d3fb60c9  1034311104   \n",
       "\n",
       "                 AUFTRAGSTEXT  ILA  WHO_NUMMER AUFTRAGSART  ECKSTARTTERMIN  \\\n",
       "0  außerplanm. Instandsetzung  030          43         510           43374   \n",
       "\n",
       "   ECKENDTERMIN  ...  FZ_HOEHE            MOTORTYP EURONORM INBETRIEB_AB  \\\n",
       "0         43374  ...      3.23  IVECO F2B CURSOR 9        6        41955   \n",
       "\n",
       "  KLIMAANLAGE ABGASFILTER ANZAHL_TUEREN ZUL_100KMH BAUJAHR  PLAETZE  \n",
       "0           5          02             2          0   41640       85  \n",
       "\n",
       "[1 rows x 35 columns]"
      ]
     },
     "execution_count": 6,
     "metadata": {},
     "output_type": "execute_result"
    }
   ],
   "source": [
    "isi_data.head(1)"
   ]
  },
  {
   "cell_type": "code",
   "execution_count": 7,
   "metadata": {},
   "outputs": [
    {
     "data": {
      "text/plain": [
       "3313"
      ]
     },
     "execution_count": 7,
     "metadata": {},
     "output_type": "execute_result"
    }
   ],
   "source": [
    "tele_tracking['FZ-ID'].nunique()"
   ]
  },
  {
   "cell_type": "code",
   "execution_count": 8,
   "metadata": {},
   "outputs": [
    {
     "data": {
      "text/plain": [
       "2894"
      ]
     },
     "execution_count": 8,
     "metadata": {},
     "output_type": "execute_result"
    }
   ],
   "source": [
    "isi_data['FZ-ID'].nunique()"
   ]
  },
  {
   "cell_type": "markdown",
   "metadata": {},
   "source": [
    "### 1) Drop duplicates and NA"
   ]
  },
  {
   "cell_type": "code",
   "execution_count": 9,
   "metadata": {},
   "outputs": [],
   "source": [
    "tele_tracking = tele_tracking.drop_duplicates()"
   ]
  },
  {
   "cell_type": "code",
   "execution_count": 10,
   "metadata": {},
   "outputs": [
    {
     "data": {
      "text/plain": [
       "3313"
      ]
     },
     "execution_count": 10,
     "metadata": {},
     "output_type": "execute_result"
    }
   ],
   "source": [
    "tele_tracking['FZ-ID'].nunique()"
   ]
  },
  {
   "cell_type": "code",
   "execution_count": 17,
   "metadata": {},
   "outputs": [
    {
     "data": {
      "text/plain": [
       "Unnamed: 0            0\n",
       "FZ-ID                 0\n",
       "Start_Date            0\n",
       "Start_time            0\n",
       "Start_milage    7421434\n",
       "Status_login          0\n",
       "Idling          7421434\n",
       "Trafic_Type           0\n",
       "Consumption     7421434\n",
       "Distance              0\n",
       "Speed_max       7421434\n",
       "End_Date              0\n",
       "End_time              0\n",
       "End_milage      7421434\n",
       "Start_Time            0\n",
       "End_Time              0\n",
       "dtype: int64"
      ]
     },
     "execution_count": 17,
     "metadata": {},
     "output_type": "execute_result"
    }
   ],
   "source": [
    "tele_tracking.isna().sum()"
   ]
  },
  {
   "cell_type": "code",
   "execution_count": 22,
   "metadata": {},
   "outputs": [],
   "source": [
    "tele_tracking = tele_tracking.dropna()"
   ]
  },
  {
   "cell_type": "code",
   "execution_count": 23,
   "metadata": {},
   "outputs": [
    {
     "data": {
      "text/plain": [
       "Unnamed: 0      0\n",
       "FZ-ID           0\n",
       "Start_Date      0\n",
       "Start_time      0\n",
       "Start_milage    0\n",
       "Status_login    0\n",
       "Idling          0\n",
       "Trafic_Type     0\n",
       "Consumption     0\n",
       "Distance        0\n",
       "Speed_max       0\n",
       "End_Date        0\n",
       "End_time        0\n",
       "End_milage      0\n",
       "Start_Time      0\n",
       "End_Time        0\n",
       "dtype: int64"
      ]
     },
     "execution_count": 23,
     "metadata": {},
     "output_type": "execute_result"
    }
   ],
   "source": [
    "tele_tracking.isna().sum()"
   ]
  },
  {
   "cell_type": "code",
   "execution_count": 24,
   "metadata": {},
   "outputs": [
    {
     "data": {
      "text/plain": [
       "3313"
      ]
     },
     "execution_count": 24,
     "metadata": {},
     "output_type": "execute_result"
    }
   ],
   "source": [
    "tele_tracking['FZ-ID'].nunique()"
   ]
  },
  {
   "cell_type": "markdown",
   "metadata": {},
   "source": [
    "### 2) Drop trafic type = ERROR"
   ]
  },
  {
   "cell_type": "code",
   "execution_count": 25,
   "metadata": {},
   "outputs": [],
   "source": [
    "tele_tracking = tele_tracking.drop(tele_tracking[(tele_tracking[\"Trafic_Type\"] == \"ERROR\")].index)\n"
   ]
  },
  {
   "cell_type": "code",
   "execution_count": 26,
   "metadata": {},
   "outputs": [
    {
     "data": {
      "text/html": [
       "<div>\n",
       "<style scoped>\n",
       "    .dataframe tbody tr th:only-of-type {\n",
       "        vertical-align: middle;\n",
       "    }\n",
       "\n",
       "    .dataframe tbody tr th {\n",
       "        vertical-align: top;\n",
       "    }\n",
       "\n",
       "    .dataframe thead th {\n",
       "        text-align: right;\n",
       "    }\n",
       "</style>\n",
       "<table border=\"1\" class=\"dataframe\">\n",
       "  <thead>\n",
       "    <tr style=\"text-align: right;\">\n",
       "      <th></th>\n",
       "      <th>Unnamed: 0</th>\n",
       "      <th>FZ-ID</th>\n",
       "      <th>Start_Date</th>\n",
       "      <th>Start_time</th>\n",
       "      <th>Start_milage</th>\n",
       "      <th>Status_login</th>\n",
       "      <th>Idling</th>\n",
       "      <th>Trafic_Type</th>\n",
       "      <th>Consumption</th>\n",
       "      <th>Distance</th>\n",
       "      <th>Speed_max</th>\n",
       "      <th>End_Date</th>\n",
       "      <th>End_time</th>\n",
       "      <th>End_milage</th>\n",
       "      <th>Start_Time</th>\n",
       "      <th>End_Time</th>\n",
       "    </tr>\n",
       "  </thead>\n",
       "  <tbody>\n",
       "    <tr>\n",
       "      <th>19760845</th>\n",
       "      <td>19760846</td>\n",
       "      <td>e73352ae-84a5-4109-8692-a7d813b08e0a</td>\n",
       "      <td>43536</td>\n",
       "      <td>0.460231</td>\n",
       "      <td>502544520.0</td>\n",
       "      <td>0</td>\n",
       "      <td>0.0</td>\n",
       "      <td>populated</td>\n",
       "      <td>906.0</td>\n",
       "      <td>2155</td>\n",
       "      <td>50.0</td>\n",
       "      <td>43536</td>\n",
       "      <td>0.465764</td>\n",
       "      <td>502546675.0</td>\n",
       "      <td>43536.460231</td>\n",
       "      <td>43536.465764</td>\n",
       "    </tr>\n",
       "    <tr>\n",
       "      <th>7255595</th>\n",
       "      <td>7255595</td>\n",
       "      <td>65b26f96-429e-4994-9af0-fb79d75de2be</td>\n",
       "      <td>43894</td>\n",
       "      <td>0.369803</td>\n",
       "      <td>149688190.0</td>\n",
       "      <td>0</td>\n",
       "      <td>0.0</td>\n",
       "      <td>mixed</td>\n",
       "      <td>981.0</td>\n",
       "      <td>4535</td>\n",
       "      <td>68.0</td>\n",
       "      <td>43894</td>\n",
       "      <td>0.373322</td>\n",
       "      <td>149692725.0</td>\n",
       "      <td>43894.369803</td>\n",
       "      <td>43894.373322</td>\n",
       "    </tr>\n",
       "    <tr>\n",
       "      <th>48517781</th>\n",
       "      <td>48517791</td>\n",
       "      <td>4600c79c-f54b-434d-99c3-6614e8fa02a9</td>\n",
       "      <td>43797</td>\n",
       "      <td>0.317685</td>\n",
       "      <td>37691670.0</td>\n",
       "      <td>0</td>\n",
       "      <td>0.0</td>\n",
       "      <td>mixed</td>\n",
       "      <td>0.0</td>\n",
       "      <td>240</td>\n",
       "      <td>65.0</td>\n",
       "      <td>43797</td>\n",
       "      <td>0.317859</td>\n",
       "      <td>37691910.0</td>\n",
       "      <td>43797.317685</td>\n",
       "      <td>43797.317859</td>\n",
       "    </tr>\n",
       "  </tbody>\n",
       "</table>\n",
       "</div>"
      ],
      "text/plain": [
       "          Unnamed: 0                                 FZ-ID  Start_Date  \\\n",
       "19760845    19760846  e73352ae-84a5-4109-8692-a7d813b08e0a       43536   \n",
       "7255595      7255595  65b26f96-429e-4994-9af0-fb79d75de2be       43894   \n",
       "48517781    48517791  4600c79c-f54b-434d-99c3-6614e8fa02a9       43797   \n",
       "\n",
       "          Start_time  Start_milage  Status_login  Idling Trafic_Type  \\\n",
       "19760845    0.460231   502544520.0             0     0.0   populated   \n",
       "7255595     0.369803   149688190.0             0     0.0       mixed   \n",
       "48517781    0.317685    37691670.0             0     0.0       mixed   \n",
       "\n",
       "          Consumption  Distance  Speed_max  End_Date  End_time   End_milage  \\\n",
       "19760845        906.0      2155       50.0     43536  0.465764  502546675.0   \n",
       "7255595         981.0      4535       68.0     43894  0.373322  149692725.0   \n",
       "48517781          0.0       240       65.0     43797  0.317859   37691910.0   \n",
       "\n",
       "            Start_Time      End_Time  \n",
       "19760845  43536.460231  43536.465764  \n",
       "7255595   43894.369803  43894.373322  \n",
       "48517781  43797.317685  43797.317859  "
      ]
     },
     "execution_count": 26,
     "metadata": {},
     "output_type": "execute_result"
    }
   ],
   "source": [
    "tele_tracking.sample(3)"
   ]
  },
  {
   "cell_type": "markdown",
   "metadata": {},
   "source": [
    "### 2) Filter nach ISI FahrzeugIDs"
   ]
  },
  {
   "cell_type": "code",
   "execution_count": 27,
   "metadata": {},
   "outputs": [],
   "source": [
    "tele_tracking_neu = tele_tracking[tele_tracking['FZ-ID'].isin(isi_data['FZ-ID'])]"
   ]
  },
  {
   "cell_type": "code",
   "execution_count": 28,
   "metadata": {},
   "outputs": [
    {
     "data": {
      "text/plain": [
       "2758"
      ]
     },
     "execution_count": 28,
     "metadata": {},
     "output_type": "execute_result"
    }
   ],
   "source": [
    "tele_tracking_neu['FZ-ID'].nunique()"
   ]
  },
  {
   "cell_type": "code",
   "execution_count": 29,
   "metadata": {},
   "outputs": [
    {
     "data": {
      "text/plain": [
       "Unnamed: 0      0\n",
       "FZ-ID           0\n",
       "Start_Date      0\n",
       "Start_time      0\n",
       "Start_milage    0\n",
       "Status_login    0\n",
       "Idling          0\n",
       "Trafic_Type     0\n",
       "Consumption     0\n",
       "Distance        0\n",
       "Speed_max       0\n",
       "End_Date        0\n",
       "End_time        0\n",
       "End_milage      0\n",
       "Start_Time      0\n",
       "End_Time        0\n",
       "dtype: int64"
      ]
     },
     "execution_count": 29,
     "metadata": {},
     "output_type": "execute_result"
    }
   ],
   "source": [
    "tele_tracking_neu.isna().sum()"
   ]
  },
  {
   "cell_type": "markdown",
   "metadata": {},
   "source": [
    "### 3) Filter ISI nach Telematik Tracking IDs"
   ]
  },
  {
   "cell_type": "code",
   "execution_count": 30,
   "metadata": {},
   "outputs": [],
   "source": [
    "isi_data_neu = isi_data[isi_data['FZ-ID'].isin(tele_tracking['FZ-ID'])]"
   ]
  },
  {
   "cell_type": "code",
   "execution_count": 31,
   "metadata": {},
   "outputs": [
    {
     "data": {
      "text/plain": [
       "2758"
      ]
     },
     "execution_count": 31,
     "metadata": {},
     "output_type": "execute_result"
    }
   ],
   "source": [
    "isi_data_neu['FZ-ID'].nunique()"
   ]
  },
  {
   "cell_type": "code",
   "execution_count": 32,
   "metadata": {},
   "outputs": [
    {
     "data": {
      "text/html": [
       "<div>\n",
       "<style scoped>\n",
       "    .dataframe tbody tr th:only-of-type {\n",
       "        vertical-align: middle;\n",
       "    }\n",
       "\n",
       "    .dataframe tbody tr th {\n",
       "        vertical-align: top;\n",
       "    }\n",
       "\n",
       "    .dataframe thead th {\n",
       "        text-align: right;\n",
       "    }\n",
       "</style>\n",
       "<table border=\"1\" class=\"dataframe\">\n",
       "  <thead>\n",
       "    <tr style=\"text-align: right;\">\n",
       "      <th></th>\n",
       "      <th>Unnamed: 0</th>\n",
       "      <th>Unnamed: 0.1</th>\n",
       "      <th>FZ-ID</th>\n",
       "      <th>AUFTRAGSNR</th>\n",
       "      <th>AUFTRAGSTEXT</th>\n",
       "      <th>ILA</th>\n",
       "      <th>WHO_NUMMER</th>\n",
       "      <th>AUFTRAGSART</th>\n",
       "      <th>ECKSTARTTERMIN</th>\n",
       "      <th>ECKENDTERMIN</th>\n",
       "      <th>...</th>\n",
       "      <th>FZ_HOEHE</th>\n",
       "      <th>MOTORTYP</th>\n",
       "      <th>EURONORM</th>\n",
       "      <th>INBETRIEB_AB</th>\n",
       "      <th>KLIMAANLAGE</th>\n",
       "      <th>ABGASFILTER</th>\n",
       "      <th>ANZAHL_TUEREN</th>\n",
       "      <th>ZUL_100KMH</th>\n",
       "      <th>BAUJAHR</th>\n",
       "      <th>PLAETZE</th>\n",
       "    </tr>\n",
       "  </thead>\n",
       "  <tbody>\n",
       "    <tr>\n",
       "      <th>0</th>\n",
       "      <td>0</td>\n",
       "      <td>0</td>\n",
       "      <td>18123c7c-2a7a-4614-b35e-05e5d3fb60c9</td>\n",
       "      <td>1034311104</td>\n",
       "      <td>außerplanm. Instandsetzung</td>\n",
       "      <td>030</td>\n",
       "      <td>43</td>\n",
       "      <td>510</td>\n",
       "      <td>43374</td>\n",
       "      <td>43374</td>\n",
       "      <td>...</td>\n",
       "      <td>3.23</td>\n",
       "      <td>IVECO F2B CURSOR 9</td>\n",
       "      <td>6</td>\n",
       "      <td>41955</td>\n",
       "      <td>5</td>\n",
       "      <td>02</td>\n",
       "      <td>2</td>\n",
       "      <td>0</td>\n",
       "      <td>41640</td>\n",
       "      <td>85</td>\n",
       "    </tr>\n",
       "  </tbody>\n",
       "</table>\n",
       "<p>1 rows × 35 columns</p>\n",
       "</div>"
      ],
      "text/plain": [
       "   Unnamed: 0  Unnamed: 0.1                                 FZ-ID  AUFTRAGSNR  \\\n",
       "0           0             0  18123c7c-2a7a-4614-b35e-05e5d3fb60c9  1034311104   \n",
       "\n",
       "                 AUFTRAGSTEXT  ILA  WHO_NUMMER AUFTRAGSART  ECKSTARTTERMIN  \\\n",
       "0  außerplanm. Instandsetzung  030          43         510           43374   \n",
       "\n",
       "   ECKENDTERMIN  ...  FZ_HOEHE            MOTORTYP EURONORM INBETRIEB_AB  \\\n",
       "0         43374  ...      3.23  IVECO F2B CURSOR 9        6        41955   \n",
       "\n",
       "  KLIMAANLAGE ABGASFILTER ANZAHL_TUEREN ZUL_100KMH BAUJAHR  PLAETZE  \n",
       "0           5          02             2          0   41640       85  \n",
       "\n",
       "[1 rows x 35 columns]"
      ]
     },
     "execution_count": 32,
     "metadata": {},
     "output_type": "execute_result"
    }
   ],
   "source": [
    "isi_data_neu.head(1)"
   ]
  },
  {
   "cell_type": "markdown",
   "metadata": {},
   "source": [
    "### 4) Drop columns Telematik Tracking"
   ]
  },
  {
   "cell_type": "code",
   "execution_count": 33,
   "metadata": {},
   "outputs": [
    {
     "data": {
      "text/html": [
       "<div>\n",
       "<style scoped>\n",
       "    .dataframe tbody tr th:only-of-type {\n",
       "        vertical-align: middle;\n",
       "    }\n",
       "\n",
       "    .dataframe tbody tr th {\n",
       "        vertical-align: top;\n",
       "    }\n",
       "\n",
       "    .dataframe thead th {\n",
       "        text-align: right;\n",
       "    }\n",
       "</style>\n",
       "<table border=\"1\" class=\"dataframe\">\n",
       "  <thead>\n",
       "    <tr style=\"text-align: right;\">\n",
       "      <th></th>\n",
       "      <th>Unnamed: 0</th>\n",
       "      <th>FZ-ID</th>\n",
       "      <th>Start_Date</th>\n",
       "      <th>Start_time</th>\n",
       "      <th>Start_milage</th>\n",
       "      <th>Status_login</th>\n",
       "      <th>Idling</th>\n",
       "      <th>Trafic_Type</th>\n",
       "      <th>Consumption</th>\n",
       "      <th>Distance</th>\n",
       "      <th>Speed_max</th>\n",
       "      <th>End_Date</th>\n",
       "      <th>End_time</th>\n",
       "      <th>End_milage</th>\n",
       "      <th>Start_Time</th>\n",
       "      <th>End_Time</th>\n",
       "    </tr>\n",
       "  </thead>\n",
       "  <tbody>\n",
       "    <tr>\n",
       "      <th>4789626</th>\n",
       "      <td>4789626</td>\n",
       "      <td>4a57dda2-b3fa-45d6-8190-b571a541a370</td>\n",
       "      <td>43874</td>\n",
       "      <td>0.177778</td>\n",
       "      <td>536203315.0</td>\n",
       "      <td>0</td>\n",
       "      <td>2715.0</td>\n",
       "      <td>populated</td>\n",
       "      <td>2904.0</td>\n",
       "      <td>535</td>\n",
       "      <td>54.0</td>\n",
       "      <td>43874</td>\n",
       "      <td>0.210150</td>\n",
       "      <td>536203850.0</td>\n",
       "      <td>43874.177778</td>\n",
       "      <td>43874.210150</td>\n",
       "    </tr>\n",
       "    <tr>\n",
       "      <th>2009555</th>\n",
       "      <td>2009555</td>\n",
       "      <td>685aefcf-9edf-4a9f-b424-bdb6e7cf81cb</td>\n",
       "      <td>43850</td>\n",
       "      <td>0.609421</td>\n",
       "      <td>308562610.0</td>\n",
       "      <td>0</td>\n",
       "      <td>0.0</td>\n",
       "      <td>mixed</td>\n",
       "      <td>7666.0</td>\n",
       "      <td>26965</td>\n",
       "      <td>83.0</td>\n",
       "      <td>43850</td>\n",
       "      <td>0.628437</td>\n",
       "      <td>308589575.0</td>\n",
       "      <td>43850.609421</td>\n",
       "      <td>43850.628438</td>\n",
       "    </tr>\n",
       "    <tr>\n",
       "      <th>2059348</th>\n",
       "      <td>2059348</td>\n",
       "      <td>6d8c8255-f62c-4395-b235-74556d78d260</td>\n",
       "      <td>43850</td>\n",
       "      <td>0.201053</td>\n",
       "      <td>183462890.0</td>\n",
       "      <td>0</td>\n",
       "      <td>0.0</td>\n",
       "      <td>mixed</td>\n",
       "      <td>1162.0</td>\n",
       "      <td>5010</td>\n",
       "      <td>72.0</td>\n",
       "      <td>43850</td>\n",
       "      <td>0.205694</td>\n",
       "      <td>183467900.0</td>\n",
       "      <td>43850.201053</td>\n",
       "      <td>43850.205694</td>\n",
       "    </tr>\n",
       "    <tr>\n",
       "      <th>44853901</th>\n",
       "      <td>44853911</td>\n",
       "      <td>03544499-ffee-4111-9076-97a14d0fcd73</td>\n",
       "      <td>43765</td>\n",
       "      <td>0.756100</td>\n",
       "      <td>279688435.0</td>\n",
       "      <td>0</td>\n",
       "      <td>0.0</td>\n",
       "      <td>mixed</td>\n",
       "      <td>306.0</td>\n",
       "      <td>2430</td>\n",
       "      <td>79.0</td>\n",
       "      <td>43765</td>\n",
       "      <td>0.757546</td>\n",
       "      <td>279690865.0</td>\n",
       "      <td>43765.756100</td>\n",
       "      <td>43765.757546</td>\n",
       "    </tr>\n",
       "    <tr>\n",
       "      <th>22199705</th>\n",
       "      <td>22199706</td>\n",
       "      <td>54891cda-3578-4ca8-9781-c3f2a8ce053e</td>\n",
       "      <td>43557</td>\n",
       "      <td>0.492407</td>\n",
       "      <td>138615640.0</td>\n",
       "      <td>0</td>\n",
       "      <td>0.0</td>\n",
       "      <td>populated</td>\n",
       "      <td>6052.0</td>\n",
       "      <td>9995</td>\n",
       "      <td>61.0</td>\n",
       "      <td>43557</td>\n",
       "      <td>0.521400</td>\n",
       "      <td>138625635.0</td>\n",
       "      <td>43557.492407</td>\n",
       "      <td>43557.521400</td>\n",
       "    </tr>\n",
       "  </tbody>\n",
       "</table>\n",
       "</div>"
      ],
      "text/plain": [
       "          Unnamed: 0                                 FZ-ID  Start_Date  \\\n",
       "4789626      4789626  4a57dda2-b3fa-45d6-8190-b571a541a370       43874   \n",
       "2009555      2009555  685aefcf-9edf-4a9f-b424-bdb6e7cf81cb       43850   \n",
       "2059348      2059348  6d8c8255-f62c-4395-b235-74556d78d260       43850   \n",
       "44853901    44853911  03544499-ffee-4111-9076-97a14d0fcd73       43765   \n",
       "22199705    22199706  54891cda-3578-4ca8-9781-c3f2a8ce053e       43557   \n",
       "\n",
       "          Start_time  Start_milage  Status_login  Idling Trafic_Type  \\\n",
       "4789626     0.177778   536203315.0             0  2715.0   populated   \n",
       "2009555     0.609421   308562610.0             0     0.0       mixed   \n",
       "2059348     0.201053   183462890.0             0     0.0       mixed   \n",
       "44853901    0.756100   279688435.0             0     0.0       mixed   \n",
       "22199705    0.492407   138615640.0             0     0.0   populated   \n",
       "\n",
       "          Consumption  Distance  Speed_max  End_Date  End_time   End_milage  \\\n",
       "4789626        2904.0       535       54.0     43874  0.210150  536203850.0   \n",
       "2009555        7666.0     26965       83.0     43850  0.628437  308589575.0   \n",
       "2059348        1162.0      5010       72.0     43850  0.205694  183467900.0   \n",
       "44853901        306.0      2430       79.0     43765  0.757546  279690865.0   \n",
       "22199705       6052.0      9995       61.0     43557  0.521400  138625635.0   \n",
       "\n",
       "            Start_Time      End_Time  \n",
       "4789626   43874.177778  43874.210150  \n",
       "2009555   43850.609421  43850.628438  \n",
       "2059348   43850.201053  43850.205694  \n",
       "44853901  43765.756100  43765.757546  \n",
       "22199705  43557.492407  43557.521400  "
      ]
     },
     "execution_count": 33,
     "metadata": {},
     "output_type": "execute_result"
    }
   ],
   "source": [
    "tele_tracking_neu.sample(5)"
   ]
  },
  {
   "cell_type": "code",
   "execution_count": 35,
   "metadata": {},
   "outputs": [
    {
     "data": {
      "text/plain": [
       "<bound method IndexOpsMixin.nunique of 78          0\n",
       "79          0\n",
       "80          0\n",
       "81          0\n",
       "82          0\n",
       "           ..\n",
       "52247906    0\n",
       "52247907    0\n",
       "52247908    0\n",
       "52247909    0\n",
       "52247910    0\n",
       "Name: Status_login, Length: 39623049, dtype: int64>"
      ]
     },
     "execution_count": 35,
     "metadata": {},
     "output_type": "execute_result"
    }
   ],
   "source": [
    "tele_tracking_neu.Status_login.nunique"
   ]
  },
  {
   "cell_type": "code",
   "execution_count": 36,
   "metadata": {},
   "outputs": [],
   "source": [
    "tele_tracking_neu = tele_tracking_neu.drop(['Start_Date', 'Start_time', 'End_Date', 'End_time'], axis=1)\n"
   ]
  },
  {
   "cell_type": "code",
   "execution_count": 37,
   "metadata": {},
   "outputs": [
    {
     "data": {
      "text/html": [
       "<div>\n",
       "<style scoped>\n",
       "    .dataframe tbody tr th:only-of-type {\n",
       "        vertical-align: middle;\n",
       "    }\n",
       "\n",
       "    .dataframe tbody tr th {\n",
       "        vertical-align: top;\n",
       "    }\n",
       "\n",
       "    .dataframe thead th {\n",
       "        text-align: right;\n",
       "    }\n",
       "</style>\n",
       "<table border=\"1\" class=\"dataframe\">\n",
       "  <thead>\n",
       "    <tr style=\"text-align: right;\">\n",
       "      <th></th>\n",
       "      <th>Unnamed: 0</th>\n",
       "      <th>FZ-ID</th>\n",
       "      <th>Start_milage</th>\n",
       "      <th>Status_login</th>\n",
       "      <th>Idling</th>\n",
       "      <th>Trafic_Type</th>\n",
       "      <th>Consumption</th>\n",
       "      <th>Distance</th>\n",
       "      <th>Speed_max</th>\n",
       "      <th>End_milage</th>\n",
       "      <th>Start_Time</th>\n",
       "      <th>End_Time</th>\n",
       "    </tr>\n",
       "  </thead>\n",
       "  <tbody>\n",
       "    <tr>\n",
       "      <th>78</th>\n",
       "      <td>78</td>\n",
       "      <td>85e261eb-9def-4e94-8681-22bdccc98109</td>\n",
       "      <td>0.0</td>\n",
       "      <td>0</td>\n",
       "      <td>0.0</td>\n",
       "      <td>mixed</td>\n",
       "      <td>609.0</td>\n",
       "      <td>2085</td>\n",
       "      <td>76.0</td>\n",
       "      <td>0.0</td>\n",
       "      <td>43831.596736</td>\n",
       "      <td>43831.598611</td>\n",
       "    </tr>\n",
       "    <tr>\n",
       "      <th>79</th>\n",
       "      <td>79</td>\n",
       "      <td>85e261eb-9def-4e94-8681-22bdccc98109</td>\n",
       "      <td>0.0</td>\n",
       "      <td>0</td>\n",
       "      <td>353.0</td>\n",
       "      <td>populated</td>\n",
       "      <td>926.0</td>\n",
       "      <td>950</td>\n",
       "      <td>61.0</td>\n",
       "      <td>0.0</td>\n",
       "      <td>43831.590301</td>\n",
       "      <td>43831.596736</td>\n",
       "    </tr>\n",
       "  </tbody>\n",
       "</table>\n",
       "</div>"
      ],
      "text/plain": [
       "    Unnamed: 0                                 FZ-ID  Start_milage  \\\n",
       "78          78  85e261eb-9def-4e94-8681-22bdccc98109           0.0   \n",
       "79          79  85e261eb-9def-4e94-8681-22bdccc98109           0.0   \n",
       "\n",
       "    Status_login  Idling Trafic_Type  Consumption  Distance  Speed_max  \\\n",
       "78             0     0.0       mixed        609.0      2085       76.0   \n",
       "79             0   353.0   populated        926.0       950       61.0   \n",
       "\n",
       "    End_milage    Start_Time      End_Time  \n",
       "78         0.0  43831.596736  43831.598611  \n",
       "79         0.0  43831.590301  43831.596736  "
      ]
     },
     "execution_count": 37,
     "metadata": {},
     "output_type": "execute_result"
    }
   ],
   "source": [
    "tele_tracking_neu.head(2)"
   ]
  },
  {
   "cell_type": "code",
   "execution_count": 38,
   "metadata": {},
   "outputs": [
    {
     "data": {
      "text/plain": [
       "2758"
      ]
     },
     "execution_count": 38,
     "metadata": {},
     "output_type": "execute_result"
    }
   ],
   "source": [
    "tele_tracking_neu[\"FZ-ID\"].nunique()"
   ]
  },
  {
   "cell_type": "markdown",
   "metadata": {},
   "source": [
    "### 4) Export data TELE"
   ]
  },
  {
   "cell_type": "code",
   "execution_count": 39,
   "metadata": {},
   "outputs": [],
   "source": [
    "tele_tracking_neu.to_csv(\"../data_final/tele_tracking_final.csv\")"
   ]
  },
  {
   "cell_type": "markdown",
   "metadata": {},
   "source": [
    "### 5) Export neue ISI Datei"
   ]
  },
  {
   "cell_type": "code",
   "execution_count": 40,
   "metadata": {},
   "outputs": [
    {
     "data": {
      "text/plain": [
       "2758"
      ]
     },
     "execution_count": 40,
     "metadata": {},
     "output_type": "execute_result"
    }
   ],
   "source": [
    "isi_data_neu[\"FZ-ID\"].nunique()"
   ]
  },
  {
   "cell_type": "code",
   "execution_count": 41,
   "metadata": {},
   "outputs": [
    {
     "data": {
      "text/html": [
       "<div>\n",
       "<style scoped>\n",
       "    .dataframe tbody tr th:only-of-type {\n",
       "        vertical-align: middle;\n",
       "    }\n",
       "\n",
       "    .dataframe tbody tr th {\n",
       "        vertical-align: top;\n",
       "    }\n",
       "\n",
       "    .dataframe thead th {\n",
       "        text-align: right;\n",
       "    }\n",
       "</style>\n",
       "<table border=\"1\" class=\"dataframe\">\n",
       "  <thead>\n",
       "    <tr style=\"text-align: right;\">\n",
       "      <th></th>\n",
       "      <th>Unnamed: 0</th>\n",
       "      <th>Unnamed: 0.1</th>\n",
       "      <th>FZ-ID</th>\n",
       "      <th>AUFTRAGSNR</th>\n",
       "      <th>AUFTRAGSTEXT</th>\n",
       "      <th>ILA</th>\n",
       "      <th>WHO_NUMMER</th>\n",
       "      <th>AUFTRAGSART</th>\n",
       "      <th>ECKSTARTTERMIN</th>\n",
       "      <th>ECKENDTERMIN</th>\n",
       "      <th>...</th>\n",
       "      <th>FZ_HOEHE</th>\n",
       "      <th>MOTORTYP</th>\n",
       "      <th>EURONORM</th>\n",
       "      <th>INBETRIEB_AB</th>\n",
       "      <th>KLIMAANLAGE</th>\n",
       "      <th>ABGASFILTER</th>\n",
       "      <th>ANZAHL_TUEREN</th>\n",
       "      <th>ZUL_100KMH</th>\n",
       "      <th>BAUJAHR</th>\n",
       "      <th>PLAETZE</th>\n",
       "    </tr>\n",
       "  </thead>\n",
       "  <tbody>\n",
       "    <tr>\n",
       "      <th>0</th>\n",
       "      <td>0</td>\n",
       "      <td>0</td>\n",
       "      <td>18123c7c-2a7a-4614-b35e-05e5d3fb60c9</td>\n",
       "      <td>1034311104</td>\n",
       "      <td>außerplanm. Instandsetzung</td>\n",
       "      <td>030</td>\n",
       "      <td>43</td>\n",
       "      <td>510</td>\n",
       "      <td>43374</td>\n",
       "      <td>43374</td>\n",
       "      <td>...</td>\n",
       "      <td>3.23</td>\n",
       "      <td>IVECO F2B CURSOR 9</td>\n",
       "      <td>6</td>\n",
       "      <td>41955</td>\n",
       "      <td>5</td>\n",
       "      <td>02</td>\n",
       "      <td>2</td>\n",
       "      <td>0</td>\n",
       "      <td>41640</td>\n",
       "      <td>85</td>\n",
       "    </tr>\n",
       "  </tbody>\n",
       "</table>\n",
       "<p>1 rows × 35 columns</p>\n",
       "</div>"
      ],
      "text/plain": [
       "   Unnamed: 0  Unnamed: 0.1                                 FZ-ID  AUFTRAGSNR  \\\n",
       "0           0             0  18123c7c-2a7a-4614-b35e-05e5d3fb60c9  1034311104   \n",
       "\n",
       "                 AUFTRAGSTEXT  ILA  WHO_NUMMER AUFTRAGSART  ECKSTARTTERMIN  \\\n",
       "0  außerplanm. Instandsetzung  030          43         510           43374   \n",
       "\n",
       "   ECKENDTERMIN  ...  FZ_HOEHE            MOTORTYP EURONORM INBETRIEB_AB  \\\n",
       "0         43374  ...      3.23  IVECO F2B CURSOR 9        6        41955   \n",
       "\n",
       "  KLIMAANLAGE ABGASFILTER ANZAHL_TUEREN ZUL_100KMH BAUJAHR  PLAETZE  \n",
       "0           5          02             2          0   41640       85  \n",
       "\n",
       "[1 rows x 35 columns]"
      ]
     },
     "execution_count": 41,
     "metadata": {},
     "output_type": "execute_result"
    }
   ],
   "source": [
    "isi_data_neu.head(1)"
   ]
  },
  {
   "cell_type": "code",
   "execution_count": 42,
   "metadata": {},
   "outputs": [],
   "source": [
    "isi_data_neu.to_csv(\"../data_final/isi_final.csv\")"
   ]
  }
 ],
 "metadata": {
  "kernelspec": {
   "display_name": "pjs",
   "language": "python",
   "name": "pjs"
  },
  "language_info": {
   "codemirror_mode": {
    "name": "ipython",
    "version": 3
   },
   "file_extension": ".py",
   "mimetype": "text/x-python",
   "name": "python",
   "nbconvert_exporter": "python",
   "pygments_lexer": "ipython3",
   "version": "3.8.3"
  }
 },
 "nbformat": 4,
 "nbformat_minor": 4
}
