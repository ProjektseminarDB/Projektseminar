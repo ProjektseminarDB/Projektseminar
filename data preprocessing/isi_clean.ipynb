{
 "cells": [
  {
   "cell_type": "code",
   "execution_count": 28,
   "metadata": {},
   "outputs": [],
   "source": [
    "import pandas as pd\n",
    "import numpy as np"
   ]
  },
  {
   "cell_type": "code",
   "execution_count": 29,
   "metadata": {},
   "outputs": [],
   "source": [
    "#Reading Data\n",
    "isi_auftrag = pd.read_csv(\"../data/ISI_Daten/ISI_Auftragsdetails_s822.csv\", sep=\"|\")\n",
    "isi_aufenthalt = pd.read_csv(\"../data/ISI_Daten/ISI_FzAufenthalte.csv\", sep=\"|\")\n",
    "isi_stamm = pd.read_csv(\"../data/ISI_Daten/ISI_Stammdaten.csv\", sep=\"|\")"
   ]
  },
  {
   "cell_type": "markdown",
   "metadata": {},
   "source": [
    "# Auftragsdetails"
   ]
  }, 
  {
   "cell_type": "code",
   "execution_count": 30,
   "metadata": {},
   "outputs": [],
   "source": [
    "#Duplikate entfernen\n",
    "isi_auftrag = isi_auftrag.drop_duplicates()\n",
    "\n",
    "#Spaltennamen anpassen\n",
    "isi_auftrag = isi_auftrag.rename(columns={'FZ_NR': 'FZ-ID'})\n",
    "\n",
    "#Unnötige Spalten löschen\n",
    "isi_auftrag = isi_auftrag.drop(['WERK'], axis=1)"
   ]
  },
  {
   "cell_type": "markdown",
   "metadata": {},
   "source": [
    "# Aufenthalt"
   ]
  },
  {
   "cell_type": "code",
   "execution_count": 31,
   "metadata": {},
   "outputs": [],
   "source": [
    "#Duplikate entfernen\n",
    "isi_aufenthalt = isi_aufenthalt.drop_duplicates()\n",
    "\n",
    "#WHO-Nummer umrechnen\n",
    "isi_aufenthalt['WHO_NUMMER'] = isi_aufenthalt['WHO_NUMMER'] - 1000000000\n",
    "\n",
    "#Unnötige Spalten entfernen\n",
    "isi_aufenthalt = isi_aufenthalt.drop(['FZ_TYP', 'HZG', 'DAT_EINBUCH', 'PLAN_ÜBERGABE_1', 'PLAN_ÜBERGABE_2'], axis=1)\n",
    "\n",
    "#Timestamp \"DAT_AUSBUCH\" zu Integer wechseln\n",
    "isi_aufenthalt[\"DAT_AUSBUCH\"] = isi_aufenthalt.apply(\n",
    "    lambda row: 0 if np.isnan(row['DAT_AUSBUCH']) else row['DAT_AUSBUCH'],\n",
    "    axis=1)\n",
    "\n",
    "isi_aufenthalt[\"DAT_AUSBUCH\"] = isi_aufenthalt[\"DAT_AUSBUCH\"].astype(int)"
   ]
  },
  {
   "cell_type": "markdown",
   "metadata": {},
   "source": [
    "# Stammdaten"
   ]
  },
  {
   "cell_type": "code",
   "execution_count": 32,
   "metadata": {},
   "outputs": [],
   "source": [
    "#Duplikate entfernen\n",
    "isi_stamm = isi_stamm.drop_duplicates()\n",
    "\n",
    "#Busmaße in Meter umwandeln\n",
    "isi_stamm['FZ_LAENGE'] = isi_stamm['FZ_LAENGE'] / 1000\n",
    "isi_stamm['FZ_BREITE'] = isi_stamm['FZ_BREITE'] / 1000\n",
    "isi_stamm['FZ_HOEHE'] = isi_stamm['FZ_HOEHE'] / 1000\n",
    "\n",
    "#Unnötige Spalten löschen\n",
    "isi_stamm = isi_stamm.drop(['WERKSTATT_NAME', 'CHASSIS_BAUART', 'D2_TYP', 'KRAFTSTOFF_ART', 'NENNLEISTUNG', 'MARKE', 'ZULASSUNGSDATUM', 'REISEGESCHWINDGK'], axis=1)\n",
    "\n",
    "#Plätze kombinieren und alte Spalten löschen\n",
    "isi_stamm['PLAETZE'] = isi_stamm['SITZPLAETZE'] + isi_stamm['STEHPLAETZE']\n",
    "isi_stamm = isi_stamm.drop(['SITZPLAETZE','STEHPLAETZE' ], axis=1)\n",
    "\n",
    "#Inaktive Fahrzeuge entfernen\n",
    "isi_stamm = isi_stamm[isi_stamm['AKTIV'] != 0]\n",
    "\n",
    "#Klima kategorisieren\n",
    "isi_stamm['KLIMAANLAGE'] = isi_stamm['KLIMAANLAGE'].astype('category').cat.codes\n",
    "isi_stamm['KLIMAANLAGE'] = isi_stamm['KLIMAANLAGE'] + 1"
   ]
  },
  {
   "cell_type": "markdown",
   "metadata": {},
   "source": [
    "# Clean Aufträge"
   ]
  },
  {
   "cell_type": "code",
   "execution_count": 33,
   "metadata": {},
   "outputs": [
    {
     "name": "stderr",
     "output_type": "stream",
     "text": [
      "/opt/anaconda3/lib/python3.7/site-packages/IPython/core/interactiveshell.py:3063: DtypeWarning: Columns (1) have mixed types.Specify dtype option on import or set low_memory=False.\n",
      "  interactivity=interactivity, compiler=compiler, result=result)\n"
     ]
    }
   ],
   "source": [
    "isi_auftraege = pd.read_csv(\"../data/ISI_Daten/ISI_Auftraege.csv\", sep=\"|\")"
   ]
  },
  {
   "cell_type": "code",
   "execution_count": 34,
   "metadata": {},
   "outputs": [],
   "source": [
    "#Duplikate entfernen\n",
    "isi_auftraege = isi_auftraege.drop_duplicates()\n",
    "\n",
    "#Unnötige Spalten löschen\n",
    "isi_auftraege = isi_auftraege.drop(['BAHNSTELLE', 'ARBEITSPLATZ', 'ILA', 'AUSGANG'], axis=1)\n",
    "\n",
    "#WHO-Nummer umrechnen\n",
    "isi_auftraege['WHO_NUMMER'] = isi_auftraege['WHO_NUMMER'] - 1000000000\n",
    "\n",
    "\n",
    "#Anpassungen\n",
    "isi_auftraege = isi_auftraege.rename(columns={'FZ_NR': 'FZ-ID'})"
   ]
  },
  {
   "cell_type": "code",
   "execution_count": 35,
   "metadata": {},
   "outputs": [
    {
     "data": {
      "text/html": [
       "<div>\n",
       "<style scoped>\n",
       "    .dataframe tbody tr th:only-of-type {\n",
       "        vertical-align: middle;\n",
       "    }\n",
       "\n",
       "    .dataframe tbody tr th {\n",
       "        vertical-align: top;\n",
       "    }\n",
       "\n",
       "    .dataframe thead th {\n",
       "        text-align: right;\n",
       "    }\n",
       "</style>\n",
       "<table border=\"1\" class=\"dataframe\">\n",
       "  <thead>\n",
       "    <tr style=\"text-align: right;\">\n",
       "      <th></th>\n",
       "      <th>FZ-ID</th>\n",
       "      <th>WERK</th>\n",
       "      <th>AUFTRAG</th>\n",
       "      <th>AUFTRAGSTEXT</th>\n",
       "      <th>WHO_NUMMER</th>\n",
       "      <th>AUFTRAGSART</th>\n",
       "      <th>SYSTEMSTATUS</th>\n",
       "      <th>ECKSTARTTERMIN</th>\n",
       "      <th>ECKENDTERMIN</th>\n",
       "      <th>BEZUGSDATUM</th>\n",
       "      <th>UPDATE_DATE</th>\n",
       "      <th>UEBERGEORDN_AUFTRAG</th>\n",
       "    </tr>\n",
       "  </thead>\n",
       "  <tbody>\n",
       "    <tr>\n",
       "      <th>0</th>\n",
       "      <td>1d707286-e40a-4d8d-8c5d-47cff0169954</td>\n",
       "      <td>NaN</td>\n",
       "      <td>1032929649</td>\n",
       "      <td>Inst.schw.Unfallsch./G3.9 (Gw)</td>\n",
       "      <td>158</td>\n",
       "      <td>610M</td>\n",
       "      <td>ABGS RÜCK ABRV MABS TDRU VOKL WABE</td>\n",
       "      <td>43102</td>\n",
       "      <td>43102</td>\n",
       "      <td>43144</td>\n",
       "      <td>43510.536806</td>\n",
       "      <td>NaN</td>\n",
       "    </tr>\n",
       "  </tbody>\n",
       "</table>\n",
       "</div>"
      ],
      "text/plain": [
       "                                  FZ-ID WERK     AUFTRAG  \\\n",
       "0  1d707286-e40a-4d8d-8c5d-47cff0169954  NaN  1032929649   \n",
       "\n",
       "                     AUFTRAGSTEXT  WHO_NUMMER AUFTRAGSART  \\\n",
       "0  Inst.schw.Unfallsch./G3.9 (Gw)         158        610M   \n",
       "\n",
       "                         SYSTEMSTATUS  ECKSTARTTERMIN  ECKENDTERMIN  \\\n",
       "0  ABGS RÜCK ABRV MABS TDRU VOKL WABE           43102         43102   \n",
       "\n",
       "   BEZUGSDATUM   UPDATE_DATE  UEBERGEORDN_AUFTRAG  \n",
       "0        43144  43510.536806                  NaN  "
      ]
     },
     "execution_count": 35,
     "metadata": {},
     "output_type": "execute_result"
    }
   ],
   "source": [
    "isi_auftraege.head(1)"
   ]
  },
  {
   "cell_type": "markdown",
   "metadata": {},
   "source": [
    "# Angleichung der jewweils vorhandenen FZ-IDS"
   ]
  },
  {
   "cell_type": "code",
   "execution_count": 36,
   "metadata": {},
   "outputs": [],
   "source": [
    "isi_stamm = isi_stamm[isi_stamm['FZ-ID'].isin(isi_auftrag['FZ-ID'])]"
   ]
  },
  {
   "cell_type": "code",
   "execution_count": 37,
   "metadata": {},
   "outputs": [],
   "source": [
    "isi_auftraege = isi_auftraege[isi_auftraege['FZ-ID'].isin(isi_auftrag['FZ-ID'])]"
   ]
  },
  {
   "cell_type": "code",
   "execution_count": 38,
   "metadata": {},
   "outputs": [],
   "source": [
    "isi_aufenthalt = isi_aufenthalt[isi_aufenthalt['FZ-ID'].isin(isi_auftrag['FZ-ID'])]"
   ]
  },
  {
   "cell_type": "code",
   "execution_count": 39,
   "metadata": {},
   "outputs": [],
   "source": [
    "isi_aufrag = isi_aufenthalt[isi_aufenthalt['FZ-ID'].isin(isi_aufenthalt['FZ-ID'])]"
   ]
  },
  {
   "cell_type": "code",
   "execution_count": 40,
   "metadata": {},
   "outputs": [],
   "source": [
    "isi_stamm = isi_stamm[isi_stamm['FZ-ID'].isin(isi_auftrag['FZ-ID'])]"
   ]
  },
  {
   "cell_type": "code",
   "execution_count": 41,
   "metadata": {},
   "outputs": [],
   "source": [
    "isi_auftraege = isi_auftraege[isi_auftraege['FZ-ID'].isin(isi_auftrag['FZ-ID'])]"
   ]
  },
  {
   "cell_type": "code",
   "execution_count": 42,
   "metadata": {},
   "outputs": [],
   "source": [
    "isi_aufenthalt = isi_aufenthalt[isi_aufenthalt['FZ-ID'].isin(isi_auftrag['FZ-ID'])]"
   ]
  },
  {
   "cell_type": "markdown",
   "metadata": {},
   "source": [
    "# IDs Filtern (?)"
   ]
  },
  {
   "cell_type": "code",
   "execution_count": 43,
   "metadata": {},
   "outputs": [],
   "source": [
    "ids_auftrag = isi_auftrag['FZ-ID'].unique()\n",
    "ids_aufenthalt = isi_aufenthalt['FZ-ID'].unique()\n",
    "ids_stamm = isi_stamm['FZ-ID'].unique()\n",
    "\n",
    "\n",
    "common_ids = list(set(ids_auftrag) & set(ids_aufenthalt) & set(ids_stamm))\n",
    "common_ids =list(map(str, common_ids))\n",
    "\n",
    "\n",
    "isi_auftrag = isi_auftrag[~isi_auftrag['FZ-ID'].isin(common_ids)]\n",
    "isi_aufenthalt = isi_aufenthalt[~isi_aufenthalt['FZ-ID'].isin(common_ids)]\n",
    "isi_stamm = isi_stamm[~isi_stamm['FZ-ID'].isin(common_ids)]\n"
   ]
  },
  {
   "cell_type": "code",
   "execution_count": 44,
   "metadata": {},
   "outputs": [],
   "source": [
    "pd.DataFrame(common_ids).to_csv(\"../Cleaned_Data/ids.csv\", index = \"FZ-ID\")"
   ]
  },
  {
   "cell_type": "code",
   "execution_count": 45,
   "metadata": {},
   "outputs": [],
   "source": [
    "ids = pd.read_csv(\"../Cleaned_Data/ids.csv\", sep=\",\", index_col=0)"
   ]
  },
  {
   "cell_type": "code",
   "execution_count": 46,
   "metadata": {},
   "outputs": [],
   "source": [
    "ids = ids.rename(columns={'o': 'FZ-ID'})"
   ]
  },
  {
   "cell_type": "code",
   "execution_count": 47,
   "metadata": {},
   "outputs": [],
   "source": [
    "# Neue Daten speichern"
   ]
  },
  {
   "cell_type": "code",
   "execution_count": 48,
   "metadata": {},
   "outputs": [],
   "source": [
    "isi_stamm.to_csv(\"../Cleaned_Data/isi_stammdaten.csv\", index = False)\n",
    "isi_aufenthalt.to_csv(\"../Cleaned_Data/isi_aufenthalt.csv\", index = False)\n",
    "isi_auftrag.to_csv(\"../Cleaned_Data/isi_auftrag.csv\", index = False)\n",
    "isi_auftraege.to_csv(\"../Cleaned_Data/isi_auftraege.csv\", index = False)"
   ]
  },
  {
   "cell_type": "code",
   "execution_count": 49,
   "metadata": {},
   "outputs": [],
   "source": [
    "ids.to_csv(\"../Cleaned_Data/ids.csv\", index = False)"
   ]
  },
  {
   "cell_type": "code",
   "execution_count": null,
   "metadata": {},
   "outputs": [],
   "source": []
  }
 ],
 "metadata": {
  "kernelspec": {
   "display_name": "Python 3",
   "language": "python",
   "name": "python3"
  },
  "language_info": {
   "codemirror_mode": {
    "name": "ipython",
    "version": 3
   },
   "file_extension": ".py",
   "mimetype": "text/x-python",
   "name": "python",
   "nbconvert_exporter": "python",
   "pygments_lexer": "ipython3",
   "version": "3.7.6"
  }
 },
 "nbformat": 4,
 "nbformat_minor": 4
}
