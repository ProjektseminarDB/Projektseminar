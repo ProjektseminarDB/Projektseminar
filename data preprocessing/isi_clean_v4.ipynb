{
 "cells": [
  {
   "cell_type": "code",
   "execution_count": 1,
   "metadata": {},
   "outputs": [],
   "source": [
    "#Setup\n",
    "import pandas as pd\n",
    "import numpy as np"
   ]
  },
  {
   "cell_type": "code",
   "execution_count": 2,
   "metadata": {},
   "outputs": [],
   "source": [
    "#Reading Data\n",
    "isi_auftrag = pd.read_csv(\"../data/ISI_Daten/ISI_Auftragsdetails_s822.csv\", sep=\"|\")\n",
    "isi_aufenthalt = pd.read_csv(\"../data/ISI_Daten/ISI_FzAufenthalte.csv\", sep=\"|\")\n",
    "isi_stamm = pd.read_csv(\"../data/ISI_Daten/ISI_Stammdaten.csv\", sep=\"|\")"
   ]
  },
  {
   "cell_type": "code",
   "execution_count": 3,
   "metadata": {},
   "outputs": [
    {
     "data": {
      "text/html": [
       "<div>\n",
       "<style scoped>\n",
       "    .dataframe tbody tr th:only-of-type {\n",
       "        vertical-align: middle;\n",
       "    }\n",
       "\n",
       "    .dataframe tbody tr th {\n",
       "        vertical-align: top;\n",
       "    }\n",
       "\n",
       "    .dataframe thead th {\n",
       "        text-align: right;\n",
       "    }\n",
       "</style>\n",
       "<table border=\"1\" class=\"dataframe\">\n",
       "  <thead>\n",
       "    <tr style=\"text-align: right;\">\n",
       "      <th></th>\n",
       "      <th>FZ-ID</th>\n",
       "      <th>WHO_NUMMER</th>\n",
       "      <th>WERK</th>\n",
       "      <th>BAUART</th>\n",
       "      <th>FZ_TYP</th>\n",
       "      <th>HZG</th>\n",
       "      <th>ILA_GRUPPE</th>\n",
       "      <th>REGION</th>\n",
       "      <th>DAT_WERKSBEZUG</th>\n",
       "      <th>DAT_EINBUCH</th>\n",
       "      <th>PLAN_ÜBERGABE_1</th>\n",
       "      <th>PLAN_ÜBERGABE_2</th>\n",
       "      <th>DAT_AUSBUCH</th>\n",
       "    </tr>\n",
       "  </thead>\n",
       "  <tbody>\n",
       "    <tr>\n",
       "      <th>70514</th>\n",
       "      <td>1f63477c-c3ca-48b2-ad0c-7f608bfa5601</td>\n",
       "      <td>1000000227</td>\n",
       "      <td>RBB Werkstatt Göttingen</td>\n",
       "      <td>O2A55</td>\n",
       "      <td>NaN</td>\n",
       "      <td>AIH</td>\n",
       "      <td>Bedarf</td>\n",
       "      <td>Nord</td>\n",
       "      <td>43503</td>\n",
       "      <td>43503</td>\n",
       "      <td>43504.0</td>\n",
       "      <td>43504.0</td>\n",
       "      <td>43504.0</td>\n",
       "    </tr>\n",
       "    <tr>\n",
       "      <th>70515</th>\n",
       "      <td>5ace5176-4427-4de4-a01a-38ce4040c86a</td>\n",
       "      <td>1000000045</td>\n",
       "      <td>Werk NL Ulm</td>\n",
       "      <td>O2C50</td>\n",
       "      <td>NaN</td>\n",
       "      <td>AIH</td>\n",
       "      <td>Bedarf</td>\n",
       "      <td>Schiene</td>\n",
       "      <td>43487</td>\n",
       "      <td>43487</td>\n",
       "      <td>43487.0</td>\n",
       "      <td>43487.0</td>\n",
       "      <td>43487.0</td>\n",
       "    </tr>\n",
       "    <tr>\n",
       "      <th>70516</th>\n",
       "      <td>5d441b19-7e98-4580-ad27-c79fff15d535</td>\n",
       "      <td>1000000135</td>\n",
       "      <td>Werk Betrieb Osnabrück</td>\n",
       "      <td>O2B15</td>\n",
       "      <td>NaN</td>\n",
       "      <td>AIH</td>\n",
       "      <td>Bedarf</td>\n",
       "      <td>Nord</td>\n",
       "      <td>43487</td>\n",
       "      <td>43487</td>\n",
       "      <td>43487.0</td>\n",
       "      <td>43487.0</td>\n",
       "      <td>43494.0</td>\n",
       "    </tr>\n",
       "    <tr>\n",
       "      <th>70517</th>\n",
       "      <td>7a48e4a3-5f11-47a6-9b69-e3c8d82cb141</td>\n",
       "      <td>1000000101</td>\n",
       "      <td>Werkstatt Oberhausen</td>\n",
       "      <td>O4C50</td>\n",
       "      <td>NaN</td>\n",
       "      <td>AIH</td>\n",
       "      <td>Bedarf</td>\n",
       "      <td>NRW</td>\n",
       "      <td>43634</td>\n",
       "      <td>43634</td>\n",
       "      <td>43634.0</td>\n",
       "      <td>43634.0</td>\n",
       "      <td>43634.0</td>\n",
       "    </tr>\n",
       "    <tr>\n",
       "      <th>70518</th>\n",
       "      <td>3d233fd5-3005-4aac-9fb6-9cff3da5f80a</td>\n",
       "      <td>1000000097</td>\n",
       "      <td>Werkstatt Oberhausen</td>\n",
       "      <td>O2I50</td>\n",
       "      <td>NaN</td>\n",
       "      <td>AIH</td>\n",
       "      <td>Bedarf</td>\n",
       "      <td>NRW</td>\n",
       "      <td>43699</td>\n",
       "      <td>43699</td>\n",
       "      <td>43699.0</td>\n",
       "      <td>43699.0</td>\n",
       "      <td>43699.0</td>\n",
       "    </tr>\n",
       "  </tbody>\n",
       "</table>\n",
       "</div>"
      ],
      "text/plain": [
       "                                      FZ-ID  WHO_NUMMER  \\\n",
       "70514  1f63477c-c3ca-48b2-ad0c-7f608bfa5601  1000000227   \n",
       "70515  5ace5176-4427-4de4-a01a-38ce4040c86a  1000000045   \n",
       "70516  5d441b19-7e98-4580-ad27-c79fff15d535  1000000135   \n",
       "70517  7a48e4a3-5f11-47a6-9b69-e3c8d82cb141  1000000101   \n",
       "70518  3d233fd5-3005-4aac-9fb6-9cff3da5f80a  1000000097   \n",
       "\n",
       "                          WERK BAUART  FZ_TYP  HZG ILA_GRUPPE   REGION  \\\n",
       "70514  RBB Werkstatt Göttingen  O2A55     NaN  AIH     Bedarf     Nord   \n",
       "70515              Werk NL Ulm  O2C50     NaN  AIH     Bedarf  Schiene   \n",
       "70516   Werk Betrieb Osnabrück  O2B15     NaN  AIH     Bedarf     Nord   \n",
       "70517     Werkstatt Oberhausen  O4C50     NaN  AIH     Bedarf      NRW   \n",
       "70518     Werkstatt Oberhausen  O2I50     NaN  AIH     Bedarf      NRW   \n",
       "\n",
       "       DAT_WERKSBEZUG  DAT_EINBUCH  PLAN_ÜBERGABE_1  PLAN_ÜBERGABE_2  \\\n",
       "70514           43503        43503          43504.0          43504.0   \n",
       "70515           43487        43487          43487.0          43487.0   \n",
       "70516           43487        43487          43487.0          43487.0   \n",
       "70517           43634        43634          43634.0          43634.0   \n",
       "70518           43699        43699          43699.0          43699.0   \n",
       "\n",
       "       DAT_AUSBUCH  \n",
       "70514      43504.0  \n",
       "70515      43487.0  \n",
       "70516      43494.0  \n",
       "70517      43634.0  \n",
       "70518      43699.0  "
      ]
     },
     "execution_count": 3,
     "metadata": {},
     "output_type": "execute_result"
    }
   ],
   "source": [
    "isi_aufenthalt.tail()"
   ]
  },
  {
   "cell_type": "markdown",
   "metadata": {},
   "source": [
    "# Auftragsdetails"
   ]
  },
  {
   "cell_type": "code",
   "execution_count": 4,
   "metadata": {},
   "outputs": [],
   "source": [
    "#Duplikate entfernen\n",
    "isi_auftrag = isi_auftrag.drop_duplicates()\n",
    "\n",
    "#Spaltennamen anpassen\n",
    "isi_auftrag = isi_auftrag.rename(columns={'FZ_NR': 'FZ-ID'})\n",
    "\n",
    "#Unnötige Spalten löschen\n",
    "isi_auftrag = isi_auftrag.drop(['WERK'], axis=1)"
   ]
  },
  {
   "cell_type": "markdown",
   "metadata": {},
   "source": [
    "# Aufenthalt"
   ]
  },
  {
   "cell_type": "code",
   "execution_count": 5,
   "metadata": {},
   "outputs": [],
   "source": [
    "#Duplikate entfernen\n",
    "isi_aufenthalt = isi_aufenthalt.drop_duplicates()\n",
    "\n",
    "#WHO-Nummer umrechnen\n",
    "isi_aufenthalt['WHO_NUMMER'] = isi_aufenthalt['WHO_NUMMER'] - 1000000000\n",
    "\n",
    "#Unnötige Spalten entfernen\n",
    "isi_aufenthalt = isi_aufenthalt.drop(['FZ_TYP', 'HZG', 'DAT_EINBUCH', 'PLAN_ÜBERGABE_1', 'PLAN_ÜBERGABE_2'], axis=1)\n",
    "\n",
    "#Timestamp \"DAT_AUSBUCH\" zu Integer wechseln\n",
    "isi_aufenthalt[\"DAT_AUSBUCH\"] = isi_aufenthalt.apply(\n",
    "    lambda row: 0 if np.isnan(row['DAT_AUSBUCH']) else row['DAT_AUSBUCH'],\n",
    "    axis=1)\n",
    "\n",
    "isi_aufenthalt[\"DAT_AUSBUCH\"] = isi_aufenthalt[\"DAT_AUSBUCH\"].astype(int)"
   ]
  },
  {
   "cell_type": "markdown",
   "metadata": {},
   "source": [
    "# Stammdaten"
   ]
  },
  {
   "cell_type": "code",
   "execution_count": 6,
   "metadata": {},
   "outputs": [],
   "source": [
    "#Duplikate entfernen\n",
    "isi_stamm = isi_stamm.drop_duplicates()\n",
    "\n",
    "#Busmaße in Meter umwandeln\n",
    "isi_stamm['FZ_LAENGE'] = isi_stamm['FZ_LAENGE'] / 1000\n",
    "isi_stamm['FZ_BREITE'] = isi_stamm['FZ_BREITE'] / 1000\n",
    "isi_stamm['FZ_HOEHE'] = isi_stamm['FZ_HOEHE'] / 1000\n",
    "\n",
    "#Unnötige Spalten löschen\n",
    "isi_stamm = isi_stamm.drop(['WERKSTATT_NAME', 'CHASSIS_BAUART', 'D2_TYP', 'KRAFTSTOFF_ART', 'NENNLEISTUNG', 'MARKE', 'ZULASSUNGSDATUM', 'REISEGESCHWINDGK'], axis=1)\n",
    "\n",
    "#Plätze kombinieren und alte Spalten löschen\n",
    "isi_stamm['PLAETZE'] = isi_stamm['SITZPLAETZE'] + isi_stamm['STEHPLAETZE']\n",
    "isi_stamm = isi_stamm.drop(['SITZPLAETZE','STEHPLAETZE' ], axis=1)\n",
    "\n",
    "#Inaktive Fahrzeuge entfernen\n",
    "isi_stamm = isi_stamm[isi_stamm['AKTIV'] != 0]\n",
    "\n",
    "#Klima kategorisieren\n",
    "isi_stamm['KLIMAANLAGE'] = isi_stamm['KLIMAANLAGE'].astype('category').cat.codes\n",
    "isi_stamm['KLIMAANLAGE'] = isi_stamm['KLIMAANLAGE'] + 1\n",
    "\n",
    "#Anpassungen\n",
    "isi_stamm = isi_stamm.rename(columns={'BABR': 'BAUART'})"
   ]
  },
  {
   "cell_type": "markdown",
   "metadata": {},
   "source": [
    "# Clean Aufträge"
   ]
  },
  {
   "cell_type": "code",
   "execution_count": 7,
   "metadata": {},
   "outputs": [
    {
     "name": "stderr",
     "output_type": "stream",
     "text": [
      "/Users/alexmayr/anaconda3/lib/python3.7/site-packages/IPython/core/interactiveshell.py:3063: DtypeWarning: Columns (1) have mixed types.Specify dtype option on import or set low_memory=False.\n",
      "  interactivity=interactivity, compiler=compiler, result=result)\n"
     ]
    }
   ],
   "source": [
    "isi_auftraege = pd.read_csv(\"../data/ISI_Daten/ISI_Auftraege.csv\", sep=\"|\")"
   ]
  },
  {
   "cell_type": "code",
   "execution_count": 8,
   "metadata": {},
   "outputs": [],
   "source": [
    "#Duplikate entfernen\n",
    "isi_auftraege = isi_auftraege.drop_duplicates()\n",
    "\n",
    "#Unnötige Spalten löschen\n",
    "isi_auftraege = isi_auftraege.drop(['BAHNSTELLE', 'ARBEITSPLATZ', 'ILA', 'AUSGANG'], axis=1)\n",
    "\n",
    "#WHO-Nummer umrechnen\n",
    "isi_auftraege['WHO_NUMMER'] = isi_auftraege['WHO_NUMMER'] - 1000000000\n",
    "\n",
    "\n",
    "#Anpassungen\n",
    "isi_auftraege = isi_auftraege.rename(columns={'FZ_NR': 'FZ-ID'})"
   ]
  },
  {
   "cell_type": "code",
   "execution_count": 9,
   "metadata": {},
   "outputs": [
    {
     "data": {
      "text/html": [
       "<div>\n",
       "<style scoped>\n",
       "    .dataframe tbody tr th:only-of-type {\n",
       "        vertical-align: middle;\n",
       "    }\n",
       "\n",
       "    .dataframe tbody tr th {\n",
       "        vertical-align: top;\n",
       "    }\n",
       "\n",
       "    .dataframe thead th {\n",
       "        text-align: right;\n",
       "    }\n",
       "</style>\n",
       "<table border=\"1\" class=\"dataframe\">\n",
       "  <thead>\n",
       "    <tr style=\"text-align: right;\">\n",
       "      <th></th>\n",
       "      <th>FZ-ID</th>\n",
       "      <th>WERK</th>\n",
       "      <th>AUFTRAG</th>\n",
       "      <th>AUFTRAGSTEXT</th>\n",
       "      <th>WHO_NUMMER</th>\n",
       "      <th>AUFTRAGSART</th>\n",
       "      <th>SYSTEMSTATUS</th>\n",
       "      <th>ECKSTARTTERMIN</th>\n",
       "      <th>ECKENDTERMIN</th>\n",
       "      <th>BEZUGSDATUM</th>\n",
       "      <th>UPDATE_DATE</th>\n",
       "      <th>UEBERGEORDN_AUFTRAG</th>\n",
       "    </tr>\n",
       "  </thead>\n",
       "  <tbody>\n",
       "    <tr>\n",
       "      <th>0</th>\n",
       "      <td>1d707286-e40a-4d8d-8c5d-47cff0169954</td>\n",
       "      <td>NaN</td>\n",
       "      <td>1032929649</td>\n",
       "      <td>Inst.schw.Unfallsch./G3.9 (Gw)</td>\n",
       "      <td>158</td>\n",
       "      <td>610M</td>\n",
       "      <td>ABGS RÜCK ABRV MABS TDRU VOKL WABE</td>\n",
       "      <td>43102</td>\n",
       "      <td>43102</td>\n",
       "      <td>43144</td>\n",
       "      <td>43510.536806</td>\n",
       "      <td>NaN</td>\n",
       "    </tr>\n",
       "  </tbody>\n",
       "</table>\n",
       "</div>"
      ],
      "text/plain": [
       "                                  FZ-ID WERK     AUFTRAG  \\\n",
       "0  1d707286-e40a-4d8d-8c5d-47cff0169954  NaN  1032929649   \n",
       "\n",
       "                     AUFTRAGSTEXT  WHO_NUMMER AUFTRAGSART  \\\n",
       "0  Inst.schw.Unfallsch./G3.9 (Gw)         158        610M   \n",
       "\n",
       "                         SYSTEMSTATUS  ECKSTARTTERMIN  ECKENDTERMIN  \\\n",
       "0  ABGS RÜCK ABRV MABS TDRU VOKL WABE           43102         43102   \n",
       "\n",
       "   BEZUGSDATUM   UPDATE_DATE  UEBERGEORDN_AUFTRAG  \n",
       "0        43144  43510.536806                  NaN  "
      ]
     },
     "execution_count": 9,
     "metadata": {},
     "output_type": "execute_result"
    }
   ],
   "source": [
    "isi_auftraege.head(1)"
   ]
  },
  {
   "cell_type": "markdown",
   "metadata": {},
   "source": [
    "# Angleichung der jewweils vorhandenen FZ-IDS"
   ]
  },
  {
   "cell_type": "code",
   "execution_count": 24,
   "metadata": {},
   "outputs": [],
   "source": [
    "isi_stamm = isi_stamm[isi_stamm['FZ-ID'].isin(isi_auftrag['FZ-ID'])]"
   ]
  },
  {
   "cell_type": "code",
   "execution_count": 25,
   "metadata": {},
   "outputs": [],
   "source": [
    "isi_auftraege = isi_auftraege[isi_auftraege['FZ-ID'].isin(isi_auftrag['FZ-ID'])]"
   ]
  },
  {
   "cell_type": "code",
   "execution_count": 26,
   "metadata": {},
   "outputs": [],
   "source": [
    "isi_aufenthalt = isi_aufenthalt[isi_aufenthalt['FZ-ID'].isin(isi_auftrag['FZ-ID'])]"
   ]
  },
  {
   "cell_type": "code",
   "execution_count": 27,
   "metadata": {},
   "outputs": [],
   "source": [
    "isi_aufrag = isi_aufenthalt[isi_aufenthalt['FZ-ID'].isin(isi_aufenthalt['FZ-ID'])]"
   ]
  },
  {
   "cell_type": "code",
   "execution_count": 28,
   "metadata": {},
   "outputs": [],
   "source": [
    "isi_stamm = isi_stamm[isi_stamm['FZ-ID'].isin(isi_auftrag['FZ-ID'])]"
   ]
  },
  {
   "cell_type": "code",
   "execution_count": 29,
   "metadata": {},
   "outputs": [],
   "source": [
    "isi_auftraege = isi_auftraege[isi_auftraege['FZ-ID'].isin(isi_auftrag['FZ-ID'])]"
   ]
  },
  {
   "cell_type": "code",
   "execution_count": 30,
   "metadata": {},
   "outputs": [],
   "source": [
    "isi_aufenthalt = isi_aufenthalt[isi_aufenthalt['FZ-ID'].isin(isi_auftrag['FZ-ID'])]"
   ]
  },
  {
   "cell_type": "code",
   "execution_count": 31,
   "metadata": {},
   "outputs": [
    {
     "data": {
      "text/plain": [
       "5519"
      ]
     },
     "execution_count": 31,
     "metadata": {},
     "output_type": "execute_result"
    }
   ],
   "source": [
    "isi_aufenthalt['FZ-ID'].nunique()"
   ]
  },
  {
   "cell_type": "code",
   "execution_count": 32,
   "metadata": {},
   "outputs": [
    {
     "data": {
      "text/plain": [
       "5668"
      ]
     },
     "execution_count": 32,
     "metadata": {},
     "output_type": "execute_result"
    }
   ],
   "source": [
    "isi_auftrag['FZ-ID'].nunique()"
   ]
  },
  {
   "cell_type": "code",
   "execution_count": 36,
   "metadata": {},
   "outputs": [
    {
     "data": {
      "text/html": [
       "<div>\n",
       "<style scoped>\n",
       "    .dataframe tbody tr th:only-of-type {\n",
       "        vertical-align: middle;\n",
       "    }\n",
       "\n",
       "    .dataframe tbody tr th {\n",
       "        vertical-align: top;\n",
       "    }\n",
       "\n",
       "    .dataframe thead th {\n",
       "        text-align: right;\n",
       "    }\n",
       "</style>\n",
       "<table border=\"1\" class=\"dataframe\">\n",
       "  <thead>\n",
       "    <tr style=\"text-align: right;\">\n",
       "      <th></th>\n",
       "      <th>FZ-ID</th>\n",
       "      <th>BAUART</th>\n",
       "      <th>ISAS</th>\n",
       "      <th>AUFTRAGSNR</th>\n",
       "      <th>AUFTRAGSBEZEICHNUNG</th>\n",
       "      <th>PRODUKTCODE</th>\n",
       "      <th>PRODUKTBEZEICHNUNG</th>\n",
       "      <th>MONAT</th>\n",
       "      <th>JAHR</th>\n",
       "    </tr>\n",
       "  </thead>\n",
       "  <tbody>\n",
       "    <tr>\n",
       "      <th>368485</th>\n",
       "      <td>6c627e63-5273-497a-a599-14bc8d8a0307</td>\n",
       "      <td>O2B53</td>\n",
       "      <td>030</td>\n",
       "      <td>1035883280</td>\n",
       "      <td>außerplanm. Instandsetzung</td>\n",
       "      <td>O00008500AB02</td>\n",
       "      <td>Motor und Motorraum reinigen</td>\n",
       "      <td>7</td>\n",
       "      <td>2019</td>\n",
       "    </tr>\n",
       "    <tr>\n",
       "      <th>368486</th>\n",
       "      <td>fcf187b9-7c1d-4c04-8584-4b2e2bf306ff</td>\n",
       "      <td>O2C50</td>\n",
       "      <td>030</td>\n",
       "      <td>1035152868</td>\n",
       "      <td>außerplanm. Instandsetzung</td>\n",
       "      <td>O42000422CD02</td>\n",
       "      <td>Bremsnachsteller 2. Achse nB ern.</td>\n",
       "      <td>3</td>\n",
       "      <td>2019</td>\n",
       "    </tr>\n",
       "    <tr>\n",
       "      <th>368487</th>\n",
       "      <td>fcf187b9-7c1d-4c04-8584-4b2e2bf306ff</td>\n",
       "      <td>O2C50</td>\n",
       "      <td>030</td>\n",
       "      <td>1035152868</td>\n",
       "      <td>außerplanm. Instandsetzung</td>\n",
       "      <td>O42000586CD02</td>\n",
       "      <td>Bremsscheiben HA prf. nB. ern.</td>\n",
       "      <td>3</td>\n",
       "      <td>2019</td>\n",
       "    </tr>\n",
       "    <tr>\n",
       "      <th>368488</th>\n",
       "      <td>fcf187b9-7c1d-4c04-8584-4b2e2bf306ff</td>\n",
       "      <td>O2C50</td>\n",
       "      <td>030</td>\n",
       "      <td>1035152868</td>\n",
       "      <td>außerplanm. Instandsetzung</td>\n",
       "      <td>O46000001CD02</td>\n",
       "      <td>Schaden Lenkung Langtext prüf.</td>\n",
       "      <td>3</td>\n",
       "      <td>2019</td>\n",
       "    </tr>\n",
       "    <tr>\n",
       "      <th>368489</th>\n",
       "      <td>fcf187b9-7c1d-4c04-8584-4b2e2bf306ff</td>\n",
       "      <td>O2C50</td>\n",
       "      <td>030</td>\n",
       "      <td>1035152868</td>\n",
       "      <td>außerplanm. Instandsetzung</td>\n",
       "      <td>O54002000CD02</td>\n",
       "      <td>Relais prf.nB.ern.Ortsangabe:</td>\n",
       "      <td>3</td>\n",
       "      <td>2019</td>\n",
       "    </tr>\n",
       "  </tbody>\n",
       "</table>\n",
       "</div>"
      ],
      "text/plain": [
       "                                       FZ-ID BAUART ISAS  AUFTRAGSNR  \\\n",
       "368485  6c627e63-5273-497a-a599-14bc8d8a0307  O2B53  030  1035883280   \n",
       "368486  fcf187b9-7c1d-4c04-8584-4b2e2bf306ff  O2C50  030  1035152868   \n",
       "368487  fcf187b9-7c1d-4c04-8584-4b2e2bf306ff  O2C50  030  1035152868   \n",
       "368488  fcf187b9-7c1d-4c04-8584-4b2e2bf306ff  O2C50  030  1035152868   \n",
       "368489  fcf187b9-7c1d-4c04-8584-4b2e2bf306ff  O2C50  030  1035152868   \n",
       "\n",
       "               AUFTRAGSBEZEICHNUNG    PRODUKTCODE  \\\n",
       "368485  außerplanm. Instandsetzung  O00008500AB02   \n",
       "368486  außerplanm. Instandsetzung  O42000422CD02   \n",
       "368487  außerplanm. Instandsetzung  O42000586CD02   \n",
       "368488  außerplanm. Instandsetzung  O46000001CD02   \n",
       "368489  außerplanm. Instandsetzung  O54002000CD02   \n",
       "\n",
       "                       PRODUKTBEZEICHNUNG  MONAT  JAHR  \n",
       "368485       Motor und Motorraum reinigen      7  2019  \n",
       "368486  Bremsnachsteller 2. Achse nB ern.      3  2019  \n",
       "368487     Bremsscheiben HA prf. nB. ern.      3  2019  \n",
       "368488     Schaden Lenkung Langtext prüf.      3  2019  \n",
       "368489      Relais prf.nB.ern.Ortsangabe:      3  2019  "
      ]
     },
     "execution_count": 36,
     "metadata": {},
     "output_type": "execute_result"
    }
   ],
   "source": [
    "isi_auftrag.tail()"
   ]
  },
  {
   "cell_type": "markdown",
   "metadata": {},
   "source": [
    "# IDs Filtern (?)"
   ]
  },
  {
   "cell_type": "code",
   "execution_count": 43,
   "metadata": {},
   "outputs": [],
   "source": [
    "ids_auftrag = isi_auftrag['FZ-ID'].unique()\n",
    "ids_aufenthalt = isi_aufenthalt['FZ-ID'].unique()\n",
    "ids_stamm = isi_stamm['FZ-ID'].unique()\n",
    "\n",
    "\n",
    "common_ids = list(set(ids_auftrag) & set(ids_aufenthalt) & set(ids_stamm))\n",
    "common_ids =list(map(str, common_ids))\n",
    "\n",
    "\n",
    "isi_auftrag = isi_auftrag[~isi_auftrag['FZ-ID'].isin(common_ids)]\n",
    "isi_aufenthalt = isi_aufenthalt[~isi_aufenthalt['FZ-ID'].isin(common_ids)]\n",
    "isi_stamm = isi_stamm[~isi_stamm['FZ-ID'].isin(common_ids)]\n"
   ]
  },
  {
   "cell_type": "code",
   "execution_count": 44,
   "metadata": {},
   "outputs": [],
   "source": [
    "pd.DataFrame(common_ids).to_csv(\"../Cleaned_Data/ids.csv\", index = \"FZ-ID\")"
   ]
  },
  {
   "cell_type": "code",
   "execution_count": 51,
   "metadata": {},
   "outputs": [],
   "source": [
    "ids = pd.read_csv(\"../Cleaned_Data/ids.csv\", sep=\",\")"
   ]
  },
  {
   "cell_type": "code",
   "execution_count": 52,
   "metadata": {},
   "outputs": [],
   "source": [
    "ids = ids.rename(columns={'0': 'FZ-ID'})"
   ]
  },
  {
   "cell_type": "markdown",
   "metadata": {},
   "source": [
    "# Neue Daten speichern"
   ]
  },
  {
   "cell_type": "code",
   "execution_count": 54,
   "metadata": {},
   "outputs": [],
   "source": [
    "isi_stamm.to_csv(\"../Cleaned_Data/isi_stammdaten.csv\", index = False)\n",
    "isi_aufenthalt.to_csv(\"../Cleaned_Data/isi_aufenthalt.csv\", index = False)\n",
    "isi_auftrag.to_csv(\"../Cleaned_Data/isi_auftrag.csv\", index = False)\n",
    "isi_auftraege.to_csv(\"../Cleaned_Data/isi_auftraege.csv\", index = False)"
   ]
  },
  {
   "cell_type": "code",
   "execution_count": 55,
   "metadata": {},
   "outputs": [],
   "source": [
    "ids.to_csv(\"../Cleaned_Data/ids.csv\", index = False)"
   ]
  },
  {
   "cell_type": "code",
   "execution_count": null,
   "metadata": {},
   "outputs": [],
   "source": []
  }
 ],
 "metadata": {
  "kernelspec": {
   "display_name": "Python 3",
   "language": "python",
   "name": "python3"
  },
  "language_info": {
   "codemirror_mode": {
    "name": "ipython",
    "version": 3
   },
   "file_extension": ".py",
   "mimetype": "text/x-python",
   "name": "python",
   "nbconvert_exporter": "python",
   "pygments_lexer": "ipython3",
   "version": "3.7.6"
  }
 },
 "nbformat": 4,
 "nbformat_minor": 4
}
