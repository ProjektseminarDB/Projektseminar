{
 "cells": [
  {
   "cell_type": "code",
   "execution_count": 1,
   "metadata": {},
   "outputs": [],
   "source": [
    "import pandas as pd"
   ]
  },
  {
   "cell_type": "markdown",
   "metadata": {},
   "source": [
    "# Daten Importieren"
   ]
  },
  {
   "cell_type": "code",
   "execution_count": 2,
   "metadata": {},
   "outputs": [
    {
     "name": "stderr",
     "output_type": "stream",
     "text": [
      "/opt/anaconda3/lib/python3.7/site-packages/IPython/core/interactiveshell.py:3063: DtypeWarning: Columns (1) have mixed types.Specify dtype option on import or set low_memory=False.\n",
      "  interactivity=interactivity, compiler=compiler, result=result)\n"
     ]
    }
   ],
   "source": [
    "auftraege_clean = pd.read_csv(\"../Cleaned_Data/isi_auftraege.csv\", sep=\",\")"
   ]
  },
  {
   "cell_type": "code",
   "execution_count": 3,
   "metadata": {},
   "outputs": [],
   "source": [
    "auftrag_clean = pd.read_csv(\"../Cleaned_Data/isi_auftrag.csv\", sep=\",\")"
   ]
  },
  {
   "cell_type": "code",
   "execution_count": 4,
   "metadata": {},
   "outputs": [],
   "source": [
    "stamm_clean = pd.read_csv(\"../Cleaned_Data/isi_stammdaten.csv\", sep=\",\")"
   ]
  },
  {
   "cell_type": "code",
   "execution_count": 5,
   "metadata": {},
   "outputs": [],
   "source": [
    "aufenthalt_clean = pd.read_csv(\"../Cleaned_Data/isi_aufenthalt.csv\", sep=\",\")"
   ]
  },
  {
   "cell_type": "code",
   "execution_count": 6,
   "metadata": {},
   "outputs": [
    {
     "data": {
      "text/html": [
       "<div>\n",
       "<style scoped>\n",
       "    .dataframe tbody tr th:only-of-type {\n",
       "        vertical-align: middle;\n",
       "    }\n",
       "\n",
       "    .dataframe tbody tr th {\n",
       "        vertical-align: top;\n",
       "    }\n",
       "\n",
       "    .dataframe thead th {\n",
       "        text-align: right;\n",
       "    }\n",
       "</style>\n",
       "<table border=\"1\" class=\"dataframe\">\n",
       "  <thead>\n",
       "    <tr style=\"text-align: right;\">\n",
       "      <th></th>\n",
       "      <th>FZ-ID</th>\n",
       "      <th>BABR</th>\n",
       "      <th>FZ_KATEGORIE</th>\n",
       "      <th>FZ_LAENGE</th>\n",
       "      <th>FZ_BREITE</th>\n",
       "      <th>FZ_HOEHE</th>\n",
       "      <th>AKTIV</th>\n",
       "      <th>AUSMUSTERUNG_DAT</th>\n",
       "      <th>MOTORTYP</th>\n",
       "      <th>EURONORM</th>\n",
       "      <th>INBETRIEB_AB</th>\n",
       "      <th>KLIMAANLAGE</th>\n",
       "      <th>ABGASFILTER</th>\n",
       "      <th>ANZAHL_TUEREN</th>\n",
       "      <th>ZUL_100KMH</th>\n",
       "      <th>BAUJAHR</th>\n",
       "      <th>PLAETZE</th>\n",
       "    </tr>\n",
       "  </thead>\n",
       "  <tbody>\n",
       "    <tr>\n",
       "      <th>0</th>\n",
       "      <td>7aac6baa-c68d-4321-bce7-52b56f73d970</td>\n",
       "      <td>O4C53</td>\n",
       "      <td>G100</td>\n",
       "      <td>18.0</td>\n",
       "      <td>2.55</td>\n",
       "      <td>3.25</td>\n",
       "      <td>1</td>\n",
       "      <td>NaN</td>\n",
       "      <td>D1556 LOH10</td>\n",
       "      <td>6</td>\n",
       "      <td>43817.0</td>\n",
       "      <td>3</td>\n",
       "      <td>04</td>\n",
       "      <td>3</td>\n",
       "      <td>0</td>\n",
       "      <td>2019.0</td>\n",
       "      <td>146</td>\n",
       "    </tr>\n",
       "    <tr>\n",
       "      <th>1</th>\n",
       "      <td>05493406-471f-446f-bb4c-ba53c9905d47</td>\n",
       "      <td>O9Z99</td>\n",
       "      <td>NaN</td>\n",
       "      <td>0.0</td>\n",
       "      <td>0.00</td>\n",
       "      <td>0.00</td>\n",
       "      <td>1</td>\n",
       "      <td>NaN</td>\n",
       "      <td>NaN</td>\n",
       "      <td>NaN</td>\n",
       "      <td>43132.0</td>\n",
       "      <td>0</td>\n",
       "      <td>NaN</td>\n",
       "      <td>0</td>\n",
       "      <td>0</td>\n",
       "      <td>NaN</td>\n",
       "      <td>0</td>\n",
       "    </tr>\n",
       "    <tr>\n",
       "      <th>2</th>\n",
       "      <td>21ee6c50-496c-4db2-9adb-194e3544df84</td>\n",
       "      <td>O9Z99</td>\n",
       "      <td>NaN</td>\n",
       "      <td>0.0</td>\n",
       "      <td>0.00</td>\n",
       "      <td>0.00</td>\n",
       "      <td>1</td>\n",
       "      <td>NaN</td>\n",
       "      <td>NaN</td>\n",
       "      <td>NaN</td>\n",
       "      <td>39814.0</td>\n",
       "      <td>9</td>\n",
       "      <td>NaN</td>\n",
       "      <td>0</td>\n",
       "      <td>0</td>\n",
       "      <td>NaN</td>\n",
       "      <td>0</td>\n",
       "    </tr>\n",
       "    <tr>\n",
       "      <th>3</th>\n",
       "      <td>f68450f9-0044-4367-a9ea-80c494f19848</td>\n",
       "      <td>O2S50</td>\n",
       "      <td>NaN</td>\n",
       "      <td>0.0</td>\n",
       "      <td>0.00</td>\n",
       "      <td>0.00</td>\n",
       "      <td>1</td>\n",
       "      <td>NaN</td>\n",
       "      <td>NaN</td>\n",
       "      <td>NaN</td>\n",
       "      <td>43565.0</td>\n",
       "      <td>0</td>\n",
       "      <td>NaN</td>\n",
       "      <td>0</td>\n",
       "      <td>0</td>\n",
       "      <td>2019.0</td>\n",
       "      <td>0</td>\n",
       "    </tr>\n",
       "    <tr>\n",
       "      <th>4</th>\n",
       "      <td>1335f592-61e5-49a2-b076-5d4a122473bb</td>\n",
       "      <td>O2S50</td>\n",
       "      <td>NaN</td>\n",
       "      <td>0.0</td>\n",
       "      <td>0.00</td>\n",
       "      <td>0.00</td>\n",
       "      <td>1</td>\n",
       "      <td>NaN</td>\n",
       "      <td>NaN</td>\n",
       "      <td>NaN</td>\n",
       "      <td>32874.0</td>\n",
       "      <td>0</td>\n",
       "      <td>NaN</td>\n",
       "      <td>0</td>\n",
       "      <td>0</td>\n",
       "      <td>2019.0</td>\n",
       "      <td>0</td>\n",
       "    </tr>\n",
       "  </tbody>\n",
       "</table>\n",
       "</div>"
      ],
      "text/plain": [
       "                                  FZ-ID   BABR FZ_KATEGORIE  FZ_LAENGE  \\\n",
       "0  7aac6baa-c68d-4321-bce7-52b56f73d970  O4C53         G100       18.0   \n",
       "1  05493406-471f-446f-bb4c-ba53c9905d47  O9Z99          NaN        0.0   \n",
       "2  21ee6c50-496c-4db2-9adb-194e3544df84  O9Z99          NaN        0.0   \n",
       "3  f68450f9-0044-4367-a9ea-80c494f19848  O2S50          NaN        0.0   \n",
       "4  1335f592-61e5-49a2-b076-5d4a122473bb  O2S50          NaN        0.0   \n",
       "\n",
       "   FZ_BREITE  FZ_HOEHE  AKTIV  AUSMUSTERUNG_DAT     MOTORTYP EURONORM  \\\n",
       "0       2.55      3.25      1               NaN  D1556 LOH10        6   \n",
       "1       0.00      0.00      1               NaN          NaN      NaN   \n",
       "2       0.00      0.00      1               NaN          NaN      NaN   \n",
       "3       0.00      0.00      1               NaN          NaN      NaN   \n",
       "4       0.00      0.00      1               NaN          NaN      NaN   \n",
       "\n",
       "   INBETRIEB_AB  KLIMAANLAGE ABGASFILTER  ANZAHL_TUEREN  ZUL_100KMH  BAUJAHR  \\\n",
       "0       43817.0            3          04              3           0   2019.0   \n",
       "1       43132.0            0         NaN              0           0      NaN   \n",
       "2       39814.0            9         NaN              0           0      NaN   \n",
       "3       43565.0            0         NaN              0           0   2019.0   \n",
       "4       32874.0            0         NaN              0           0   2019.0   \n",
       "\n",
       "   PLAETZE  \n",
       "0      146  \n",
       "1        0  \n",
       "2        0  \n",
       "3        0  \n",
       "4        0  "
      ]
     },
     "execution_count": 6,
     "metadata": {},
     "output_type": "execute_result"
    }
   ],
   "source": [
    "stamm_clean.head()"
   ]
  },
  {
   "cell_type": "markdown",
   "metadata": {},
   "source": [
    "# Columns anzeigen"
   ]
  },
  {
   "cell_type": "code",
   "execution_count": 7,
   "metadata": {},
   "outputs": [
    {
     "data": {
      "text/plain": [
       "Index(['FZ-ID', 'WERK', 'AUFTRAG', 'AUFTRAGSTEXT', 'WHO_NUMMER', 'AUFTRAGSART',\n",
       "       'SYSTEMSTATUS', 'ECKSTARTTERMIN', 'ECKENDTERMIN', 'BEZUGSDATUM',\n",
       "       'UPDATE_DATE', 'UEBERGEORDN_AUFTRAG'],\n",
       "      dtype='object')"
      ]
     },
     "execution_count": 7,
     "metadata": {},
     "output_type": "execute_result"
    }
   ],
   "source": [
    "auftraege_clean.columns"
   ]
  },
  {
   "cell_type": "code",
   "execution_count": 8,
   "metadata": {},
   "outputs": [
    {
     "data": {
      "text/plain": [
       "Index(['FZ-ID', 'BAUART', 'ISAS', 'AUFTRAGSNR', 'AUFTRAGSBEZEICHNUNG',\n",
       "       'PRODUKTCODE', 'PRODUKTBEZEICHNUNG', 'MONAT', 'JAHR'],\n",
       "      dtype='object')"
      ]
     },
     "execution_count": 8,
     "metadata": {},
     "output_type": "execute_result"
    }
   ],
   "source": [
    "auftrag_clean.columns"
   ]
  },
  {
   "cell_type": "code",
   "execution_count": 9,
   "metadata": {},
   "outputs": [
    {
     "data": {
      "text/plain": [
       "Index(['FZ-ID', 'BABR', 'FZ_KATEGORIE', 'FZ_LAENGE', 'FZ_BREITE', 'FZ_HOEHE',\n",
       "       'AKTIV', 'AUSMUSTERUNG_DAT', 'MOTORTYP', 'EURONORM', 'INBETRIEB_AB',\n",
       "       'KLIMAANLAGE', 'ABGASFILTER', 'ANZAHL_TUEREN', 'ZUL_100KMH', 'BAUJAHR',\n",
       "       'PLAETZE'],\n",
       "      dtype='object')"
      ]
     },
     "execution_count": 9,
     "metadata": {},
     "output_type": "execute_result"
    }
   ],
   "source": [
    "stamm_clean.columns"
   ]
  },
  {
   "cell_type": "code",
   "execution_count": 10,
   "metadata": {},
   "outputs": [
    {
     "data": {
      "text/plain": [
       "Index(['FZ-ID', 'WHO_NUMMER', 'WERK', 'BAUART', 'ILA_GRUPPE', 'REGION',\n",
       "       'DAT_WERKSBEZUG', 'DAT_AUSBUCH'],\n",
       "      dtype='object')"
      ]
     },
     "execution_count": 10,
     "metadata": {},
     "output_type": "execute_result"
    }
   ],
   "source": [
    "aufenthalt_clean.columns"
   ]
  },
  {
   "cell_type": "markdown",
   "metadata": {},
   "source": [
    "# Spalten verbinden"
   ]
  },
  {
   "cell_type": "code",
   "execution_count": 11,
   "metadata": {},
   "outputs": [],
   "source": [
    "isi_merge_1 = pd.merge(auftraege_clean, aufenthalt_clean, on='FZ-ID', how='left')"
   ]
  },
  {
   "cell_type": "code",
   "execution_count": 12,
   "metadata": {},
   "outputs": [
    {
     "data": {
      "text/plain": [
       "Index(['FZ-ID', 'WERK_x', 'AUFTRAG', 'AUFTRAGSTEXT', 'WHO_NUMMER_x',\n",
       "       'AUFTRAGSART', 'SYSTEMSTATUS', 'ECKSTARTTERMIN', 'ECKENDTERMIN',\n",
       "       'BEZUGSDATUM', 'UPDATE_DATE', 'UEBERGEORDN_AUFTRAG', 'WHO_NUMMER_y',\n",
       "       'WERK_y', 'BAUART', 'ILA_GRUPPE', 'REGION', 'DAT_WERKSBEZUG',\n",
       "       'DAT_AUSBUCH'],\n",
       "      dtype='object')"
      ]
     },
     "execution_count": 12,
     "metadata": {},
     "output_type": "execute_result"
    }
   ],
   "source": [
    "isi_merge_1.columns"
   ]
  },
  {
   "cell_type": "code",
   "execution_count": 13,
   "metadata": {},
   "outputs": [],
   "source": [
    "isi_merge_2 = pd.merge(isi_merge_1, auftraege_clean, on='FZ-ID', how='left')"
   ]
  },
  {
   "cell_type": "code",
   "execution_count": 14,
   "metadata": {},
   "outputs": [],
   "source": [
    "isi_merge_final = pd.merge(isi_merge_2, aufenthalt_clean, on='FZ-ID', how='left')"
   ]
  },
  {
   "cell_type": "code",
   "execution_count": 15,
   "metadata": {},
   "outputs": [
    {
     "data": {
      "text/plain": [
       "Index(['FZ-ID', 'WERK_x', 'AUFTRAG_x', 'AUFTRAGSTEXT_x', 'WHO_NUMMER_x',\n",
       "       'AUFTRAGSART_x', 'SYSTEMSTATUS_x', 'ECKSTARTTERMIN_x', 'ECKENDTERMIN_x',\n",
       "       'BEZUGSDATUM_x', 'UPDATE_DATE_x', 'UEBERGEORDN_AUFTRAG_x',\n",
       "       'WHO_NUMMER_y', 'WERK_y', 'BAUART_x', 'ILA_GRUPPE_x', 'REGION_x',\n",
       "       'DAT_WERKSBEZUG_x', 'DAT_AUSBUCH_x', 'WERK_x', 'AUFTRAG_y',\n",
       "       'AUFTRAGSTEXT_y', 'WHO_NUMMER_x', 'AUFTRAGSART_y', 'SYSTEMSTATUS_y',\n",
       "       'ECKSTARTTERMIN_y', 'ECKENDTERMIN_y', 'BEZUGSDATUM_y', 'UPDATE_DATE_y',\n",
       "       'UEBERGEORDN_AUFTRAG_y', 'WHO_NUMMER_y', 'WERK_y', 'BAUART_y',\n",
       "       'ILA_GRUPPE_y', 'REGION_y', 'DAT_WERKSBEZUG_y', 'DAT_AUSBUCH_y'],\n",
       "      dtype='object')"
      ]
     },
     "execution_count": 15,
     "metadata": {},
     "output_type": "execute_result"
    }
   ],
   "source": [
    "isi_merge_final.columns"
   ]
  },
  {
   "cell_type": "code",
   "execution_count": 16,
   "metadata": {},
   "outputs": [
    {
     "data": {
      "text/html": [
       "<div>\n",
       "<style scoped>\n",
       "    .dataframe tbody tr th:only-of-type {\n",
       "        vertical-align: middle;\n",
       "    }\n",
       "\n",
       "    .dataframe tbody tr th {\n",
       "        vertical-align: top;\n",
       "    }\n",
       "\n",
       "    .dataframe thead th {\n",
       "        text-align: right;\n",
       "    }\n",
       "</style>\n",
       "<table border=\"1\" class=\"dataframe\">\n",
       "  <thead>\n",
       "    <tr style=\"text-align: right;\">\n",
       "      <th></th>\n",
       "      <th>FZ-ID</th>\n",
       "      <th>WERK_x</th>\n",
       "      <th>AUFTRAG_x</th>\n",
       "      <th>AUFTRAGSTEXT_x</th>\n",
       "      <th>WHO_NUMMER_x</th>\n",
       "      <th>AUFTRAGSART_x</th>\n",
       "      <th>SYSTEMSTATUS_x</th>\n",
       "      <th>ECKSTARTTERMIN_x</th>\n",
       "      <th>ECKENDTERMIN_x</th>\n",
       "      <th>BEZUGSDATUM_x</th>\n",
       "      <th>...</th>\n",
       "      <th>BEZUGSDATUM_y</th>\n",
       "      <th>UPDATE_DATE_y</th>\n",
       "      <th>UEBERGEORDN_AUFTRAG_y</th>\n",
       "      <th>WHO_NUMMER_y</th>\n",
       "      <th>WERK_y</th>\n",
       "      <th>BAUART_y</th>\n",
       "      <th>ILA_GRUPPE_y</th>\n",
       "      <th>REGION_y</th>\n",
       "      <th>DAT_WERKSBEZUG_y</th>\n",
       "      <th>DAT_AUSBUCH_y</th>\n",
       "    </tr>\n",
       "  </thead>\n",
       "  <tbody>\n",
       "    <tr>\n",
       "      <th>94475113</th>\n",
       "      <td>a1a70d67-11f5-425a-a772-06d038bab884</td>\n",
       "      <td>NaN</td>\n",
       "      <td>1037448794</td>\n",
       "      <td>außerplanm. Instandsetzung</td>\n",
       "      <td>231</td>\n",
       "      <td>510</td>\n",
       "      <td>ABGS RÜCK ABRV KKMP VOKL</td>\n",
       "      <td>43941</td>\n",
       "      <td>43941</td>\n",
       "      <td>43949</td>\n",
       "      <td>...</td>\n",
       "      <td>43875</td>\n",
       "      <td>43986.220266</td>\n",
       "      <td>NaN</td>\n",
       "      <td>NaN</td>\n",
       "      <td>NaN</td>\n",
       "      <td>NaN</td>\n",
       "      <td>NaN</td>\n",
       "      <td>NaN</td>\n",
       "      <td>NaN</td>\n",
       "      <td>NaN</td>\n",
       "    </tr>\n",
       "    <tr>\n",
       "      <th>94475114</th>\n",
       "      <td>a1a70d67-11f5-425a-a772-06d038bab884</td>\n",
       "      <td>NaN</td>\n",
       "      <td>1037448794</td>\n",
       "      <td>außerplanm. Instandsetzung</td>\n",
       "      <td>231</td>\n",
       "      <td>510</td>\n",
       "      <td>ABGS RÜCK ABRV KKMP VOKL</td>\n",
       "      <td>43941</td>\n",
       "      <td>43941</td>\n",
       "      <td>43949</td>\n",
       "      <td>...</td>\n",
       "      <td>43885</td>\n",
       "      <td>43986.220266</td>\n",
       "      <td>NaN</td>\n",
       "      <td>NaN</td>\n",
       "      <td>NaN</td>\n",
       "      <td>NaN</td>\n",
       "      <td>NaN</td>\n",
       "      <td>NaN</td>\n",
       "      <td>NaN</td>\n",
       "      <td>NaN</td>\n",
       "    </tr>\n",
       "    <tr>\n",
       "      <th>94475115</th>\n",
       "      <td>a1a70d67-11f5-425a-a772-06d038bab884</td>\n",
       "      <td>NaN</td>\n",
       "      <td>1037448794</td>\n",
       "      <td>außerplanm. Instandsetzung</td>\n",
       "      <td>231</td>\n",
       "      <td>510</td>\n",
       "      <td>ABGS RÜCK ABRV KKMP VOKL</td>\n",
       "      <td>43941</td>\n",
       "      <td>43941</td>\n",
       "      <td>43949</td>\n",
       "      <td>...</td>\n",
       "      <td>43903</td>\n",
       "      <td>43986.220266</td>\n",
       "      <td>NaN</td>\n",
       "      <td>NaN</td>\n",
       "      <td>NaN</td>\n",
       "      <td>NaN</td>\n",
       "      <td>NaN</td>\n",
       "      <td>NaN</td>\n",
       "      <td>NaN</td>\n",
       "      <td>NaN</td>\n",
       "    </tr>\n",
       "    <tr>\n",
       "      <th>94475116</th>\n",
       "      <td>a1a70d67-11f5-425a-a772-06d038bab884</td>\n",
       "      <td>NaN</td>\n",
       "      <td>1037448794</td>\n",
       "      <td>außerplanm. Instandsetzung</td>\n",
       "      <td>231</td>\n",
       "      <td>510</td>\n",
       "      <td>ABGS RÜCK ABRV KKMP VOKL</td>\n",
       "      <td>43941</td>\n",
       "      <td>43941</td>\n",
       "      <td>43949</td>\n",
       "      <td>...</td>\n",
       "      <td>43916</td>\n",
       "      <td>43986.220266</td>\n",
       "      <td>NaN</td>\n",
       "      <td>NaN</td>\n",
       "      <td>NaN</td>\n",
       "      <td>NaN</td>\n",
       "      <td>NaN</td>\n",
       "      <td>NaN</td>\n",
       "      <td>NaN</td>\n",
       "      <td>NaN</td>\n",
       "    </tr>\n",
       "    <tr>\n",
       "      <th>94475117</th>\n",
       "      <td>a1a70d67-11f5-425a-a772-06d038bab884</td>\n",
       "      <td>NaN</td>\n",
       "      <td>1037448794</td>\n",
       "      <td>außerplanm. Instandsetzung</td>\n",
       "      <td>231</td>\n",
       "      <td>510</td>\n",
       "      <td>ABGS RÜCK ABRV KKMP VOKL</td>\n",
       "      <td>43941</td>\n",
       "      <td>43941</td>\n",
       "      <td>43949</td>\n",
       "      <td>...</td>\n",
       "      <td>43949</td>\n",
       "      <td>43986.220266</td>\n",
       "      <td>NaN</td>\n",
       "      <td>NaN</td>\n",
       "      <td>NaN</td>\n",
       "      <td>NaN</td>\n",
       "      <td>NaN</td>\n",
       "      <td>NaN</td>\n",
       "      <td>NaN</td>\n",
       "      <td>NaN</td>\n",
       "    </tr>\n",
       "  </tbody>\n",
       "</table>\n",
       "<p>5 rows × 37 columns</p>\n",
       "</div>"
      ],
      "text/plain": [
       "                                         FZ-ID WERK_x   AUFTRAG_x  \\\n",
       "94475113  a1a70d67-11f5-425a-a772-06d038bab884    NaN  1037448794   \n",
       "94475114  a1a70d67-11f5-425a-a772-06d038bab884    NaN  1037448794   \n",
       "94475115  a1a70d67-11f5-425a-a772-06d038bab884    NaN  1037448794   \n",
       "94475116  a1a70d67-11f5-425a-a772-06d038bab884    NaN  1037448794   \n",
       "94475117  a1a70d67-11f5-425a-a772-06d038bab884    NaN  1037448794   \n",
       "\n",
       "                      AUFTRAGSTEXT_x  WHO_NUMMER_x AUFTRAGSART_x  \\\n",
       "94475113  außerplanm. Instandsetzung           231           510   \n",
       "94475114  außerplanm. Instandsetzung           231           510   \n",
       "94475115  außerplanm. Instandsetzung           231           510   \n",
       "94475116  außerplanm. Instandsetzung           231           510   \n",
       "94475117  außerplanm. Instandsetzung           231           510   \n",
       "\n",
       "                    SYSTEMSTATUS_x  ECKSTARTTERMIN_x  ECKENDTERMIN_x  \\\n",
       "94475113  ABGS RÜCK ABRV KKMP VOKL             43941           43941   \n",
       "94475114  ABGS RÜCK ABRV KKMP VOKL             43941           43941   \n",
       "94475115  ABGS RÜCK ABRV KKMP VOKL             43941           43941   \n",
       "94475116  ABGS RÜCK ABRV KKMP VOKL             43941           43941   \n",
       "94475117  ABGS RÜCK ABRV KKMP VOKL             43941           43941   \n",
       "\n",
       "          BEZUGSDATUM_x  ...  BEZUGSDATUM_y  UPDATE_DATE_y  \\\n",
       "94475113          43949  ...          43875   43986.220266   \n",
       "94475114          43949  ...          43885   43986.220266   \n",
       "94475115          43949  ...          43903   43986.220266   \n",
       "94475116          43949  ...          43916   43986.220266   \n",
       "94475117          43949  ...          43949   43986.220266   \n",
       "\n",
       "          UEBERGEORDN_AUFTRAG_y WHO_NUMMER_y WERK_y BAUART_y ILA_GRUPPE_y  \\\n",
       "94475113                    NaN          NaN    NaN      NaN          NaN   \n",
       "94475114                    NaN          NaN    NaN      NaN          NaN   \n",
       "94475115                    NaN          NaN    NaN      NaN          NaN   \n",
       "94475116                    NaN          NaN    NaN      NaN          NaN   \n",
       "94475117                    NaN          NaN    NaN      NaN          NaN   \n",
       "\n",
       "          REGION_y  DAT_WERKSBEZUG_y DAT_AUSBUCH_y  \n",
       "94475113       NaN               NaN           NaN  \n",
       "94475114       NaN               NaN           NaN  \n",
       "94475115       NaN               NaN           NaN  \n",
       "94475116       NaN               NaN           NaN  \n",
       "94475117       NaN               NaN           NaN  \n",
       "\n",
       "[5 rows x 37 columns]"
      ]
     },
     "execution_count": 16,
     "metadata": {},
     "output_type": "execute_result"
    }
   ],
   "source": [
    "isi_merge_final.tail()"
   ]
  },
  {
   "cell_type": "markdown",
   "metadata": {},
   "source": [
    "# Neue Daten speichern"
   ]
  },
  {
   "cell_type": "code",
   "execution_count": null,
   "metadata": {},
   "outputs": [],
   "source": [
    "isi_merge_final.to_csv(\"../Cleaned_Data/isi_daten.csv\", index = False)"
   ]
  },
  {
   "cell_type": "markdown",
   "metadata": {},
   "source": [
    "# IDS importieren"
   ]
  },
  {
   "cell_type": "code",
   "execution_count": null,
   "metadata": {},
   "outputs": [],
   "source": [
    "ids = pd.read_csv(\"../Cleaned_Data/ids.csv\", sep=\",\")"
   ]
  },
  {
   "cell_type": "code",
   "execution_count": null,
   "metadata": {},
   "outputs": [],
   "source": [
    "ids = ids.rename(columns={'0': 'FZ-ID'})"
   ]
  },
  {
   "cell_type": "markdown",
   "metadata": {},
   "source": [
    "# Stichprobe ziehen"
   ]
  },
  {
   "cell_type": "code",
   "execution_count": null,
   "metadata": {},
   "outputs": [],
   "source": [
    "stichprobe = ids.sample(1000)"
   ]
  },
  {
   "cell_type": "markdown",
   "metadata": {},
   "source": [
    "# Mit Stichprobe Gesamtheit reudzieren"
   ]
  },
  {
   "cell_type": "code",
   "execution_count": null,
   "metadata": {},
   "outputs": [],
   "source": [
    "isi_sp = isi_merge_final[isi_merge_final['FZ-ID'].isin(stichprobe['FZ-ID'])]"
   ]
  },
  {
   "cell_type": "markdown",
   "metadata": {},
   "source": [
    "# Stichprobenwerte überprüfen"
   ]
  },
  {
   "cell_type": "code",
   "execution_count": null,
   "metadata": {},
   "outputs": [],
   "source": [
    "isi_sp.columns"
   ]
  },
  {
   "cell_type": "code",
   "execution_count": null,
   "metadata": {},
   "outputs": [],
   "source": [
    "isi_sp.tail()"
   ]
  },
  {
   "cell_type": "code",
   "execution_count": null,
   "metadata": {},
   "outputs": [],
   "source": []
  }
 ],
 "metadata": {
  "kernelspec": {
   "display_name": "Python 3",
   "language": "python",
   "name": "python3"
  },
  "language_info": {
   "codemirror_mode": {
    "name": "ipython",
    "version": 3
   },
   "file_extension": ".py",
   "mimetype": "text/x-python",
   "name": "python",
   "nbconvert_exporter": "python",
   "pygments_lexer": "ipython3",
   "version": "3.7.6"
  }
 },
 "nbformat": 4,
 "nbformat_minor": 4
}
